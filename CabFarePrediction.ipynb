{
 "cells": [
  {
   "cell_type": "code",
   "execution_count": 410,
   "id": "690f5b1c",
   "metadata": {},
   "outputs": [],
   "source": [
    "import pandas as pd\n",
    "import numpy as np\n",
    "import matplotlib.pyplot as plt\n",
    "import seaborn as sns"
   ]
  },
  {
   "cell_type": "code",
   "execution_count": 411,
   "id": "3a4ac66e",
   "metadata": {},
   "outputs": [
    {
     "data": {
      "text/html": [
       "<div>\n",
       "<style scoped>\n",
       "    .dataframe tbody tr th:only-of-type {\n",
       "        vertical-align: middle;\n",
       "    }\n",
       "\n",
       "    .dataframe tbody tr th {\n",
       "        vertical-align: top;\n",
       "    }\n",
       "\n",
       "    .dataframe thead th {\n",
       "        text-align: right;\n",
       "    }\n",
       "</style>\n",
       "<table border=\"1\" class=\"dataframe\">\n",
       "  <thead>\n",
       "    <tr style=\"text-align: right;\">\n",
       "      <th></th>\n",
       "      <th>distance</th>\n",
       "      <th>cab_type</th>\n",
       "      <th>time_stamp</th>\n",
       "      <th>destination</th>\n",
       "      <th>source</th>\n",
       "      <th>price</th>\n",
       "      <th>surge_multiplier</th>\n",
       "      <th>id</th>\n",
       "      <th>product_id</th>\n",
       "      <th>name</th>\n",
       "    </tr>\n",
       "  </thead>\n",
       "  <tbody>\n",
       "    <tr>\n",
       "      <th>0</th>\n",
       "      <td>0.44</td>\n",
       "      <td>Lyft</td>\n",
       "      <td>1544952607890</td>\n",
       "      <td>North Station</td>\n",
       "      <td>Haymarket Square</td>\n",
       "      <td>5.0</td>\n",
       "      <td>1.0</td>\n",
       "      <td>424553bb-7174-41ea-aeb4-fe06d4f4b9d7</td>\n",
       "      <td>lyft_line</td>\n",
       "      <td>Shared</td>\n",
       "    </tr>\n",
       "    <tr>\n",
       "      <th>1</th>\n",
       "      <td>0.44</td>\n",
       "      <td>Lyft</td>\n",
       "      <td>1543284023677</td>\n",
       "      <td>North Station</td>\n",
       "      <td>Haymarket Square</td>\n",
       "      <td>11.0</td>\n",
       "      <td>1.0</td>\n",
       "      <td>4bd23055-6827-41c6-b23b-3c491f24e74d</td>\n",
       "      <td>lyft_premier</td>\n",
       "      <td>Lux</td>\n",
       "    </tr>\n",
       "    <tr>\n",
       "      <th>2</th>\n",
       "      <td>0.44</td>\n",
       "      <td>Lyft</td>\n",
       "      <td>1543366822198</td>\n",
       "      <td>North Station</td>\n",
       "      <td>Haymarket Square</td>\n",
       "      <td>7.0</td>\n",
       "      <td>1.0</td>\n",
       "      <td>981a3613-77af-4620-a42a-0c0866077d1e</td>\n",
       "      <td>lyft</td>\n",
       "      <td>Lyft</td>\n",
       "    </tr>\n",
       "    <tr>\n",
       "      <th>3</th>\n",
       "      <td>0.44</td>\n",
       "      <td>Lyft</td>\n",
       "      <td>1543553582749</td>\n",
       "      <td>North Station</td>\n",
       "      <td>Haymarket Square</td>\n",
       "      <td>26.0</td>\n",
       "      <td>1.0</td>\n",
       "      <td>c2d88af2-d278-4bfd-a8d0-29ca77cc5512</td>\n",
       "      <td>lyft_luxsuv</td>\n",
       "      <td>Lux Black XL</td>\n",
       "    </tr>\n",
       "    <tr>\n",
       "      <th>4</th>\n",
       "      <td>0.44</td>\n",
       "      <td>Lyft</td>\n",
       "      <td>1543463360223</td>\n",
       "      <td>North Station</td>\n",
       "      <td>Haymarket Square</td>\n",
       "      <td>9.0</td>\n",
       "      <td>1.0</td>\n",
       "      <td>e0126e1f-8ca9-4f2e-82b3-50505a09db9a</td>\n",
       "      <td>lyft_plus</td>\n",
       "      <td>Lyft XL</td>\n",
       "    </tr>\n",
       "  </tbody>\n",
       "</table>\n",
       "</div>"
      ],
      "text/plain": [
       "   distance cab_type     time_stamp    destination            source  price  \\\n",
       "0      0.44     Lyft  1544952607890  North Station  Haymarket Square    5.0   \n",
       "1      0.44     Lyft  1543284023677  North Station  Haymarket Square   11.0   \n",
       "2      0.44     Lyft  1543366822198  North Station  Haymarket Square    7.0   \n",
       "3      0.44     Lyft  1543553582749  North Station  Haymarket Square   26.0   \n",
       "4      0.44     Lyft  1543463360223  North Station  Haymarket Square    9.0   \n",
       "\n",
       "   surge_multiplier                                    id    product_id  \\\n",
       "0               1.0  424553bb-7174-41ea-aeb4-fe06d4f4b9d7     lyft_line   \n",
       "1               1.0  4bd23055-6827-41c6-b23b-3c491f24e74d  lyft_premier   \n",
       "2               1.0  981a3613-77af-4620-a42a-0c0866077d1e          lyft   \n",
       "3               1.0  c2d88af2-d278-4bfd-a8d0-29ca77cc5512   lyft_luxsuv   \n",
       "4               1.0  e0126e1f-8ca9-4f2e-82b3-50505a09db9a     lyft_plus   \n",
       "\n",
       "           name  \n",
       "0        Shared  \n",
       "1           Lux  \n",
       "2          Lyft  \n",
       "3  Lux Black XL  \n",
       "4       Lyft XL  "
      ]
     },
     "execution_count": 411,
     "metadata": {},
     "output_type": "execute_result"
    }
   ],
   "source": [
    "df_ride=pd.read_csv('cab_rides.csv')\n",
    "df_ride.head()"
   ]
  },
  {
   "cell_type": "code",
   "execution_count": 412,
   "id": "862fbd29",
   "metadata": {},
   "outputs": [
    {
     "data": {
      "text/html": [
       "<div>\n",
       "<style scoped>\n",
       "    .dataframe tbody tr th:only-of-type {\n",
       "        vertical-align: middle;\n",
       "    }\n",
       "\n",
       "    .dataframe tbody tr th {\n",
       "        vertical-align: top;\n",
       "    }\n",
       "\n",
       "    .dataframe thead th {\n",
       "        text-align: right;\n",
       "    }\n",
       "</style>\n",
       "<table border=\"1\" class=\"dataframe\">\n",
       "  <thead>\n",
       "    <tr style=\"text-align: right;\">\n",
       "      <th></th>\n",
       "      <th>temp</th>\n",
       "      <th>location</th>\n",
       "      <th>clouds</th>\n",
       "      <th>pressure</th>\n",
       "      <th>rain</th>\n",
       "      <th>time_stamp</th>\n",
       "      <th>humidity</th>\n",
       "      <th>wind</th>\n",
       "    </tr>\n",
       "  </thead>\n",
       "  <tbody>\n",
       "    <tr>\n",
       "      <th>0</th>\n",
       "      <td>42.42</td>\n",
       "      <td>Back Bay</td>\n",
       "      <td>1.0</td>\n",
       "      <td>1012.14</td>\n",
       "      <td>0.1228</td>\n",
       "      <td>1545003901</td>\n",
       "      <td>0.77</td>\n",
       "      <td>11.25</td>\n",
       "    </tr>\n",
       "    <tr>\n",
       "      <th>1</th>\n",
       "      <td>42.43</td>\n",
       "      <td>Beacon Hill</td>\n",
       "      <td>1.0</td>\n",
       "      <td>1012.15</td>\n",
       "      <td>0.1846</td>\n",
       "      <td>1545003901</td>\n",
       "      <td>0.76</td>\n",
       "      <td>11.32</td>\n",
       "    </tr>\n",
       "    <tr>\n",
       "      <th>2</th>\n",
       "      <td>42.50</td>\n",
       "      <td>Boston University</td>\n",
       "      <td>1.0</td>\n",
       "      <td>1012.15</td>\n",
       "      <td>0.1089</td>\n",
       "      <td>1545003901</td>\n",
       "      <td>0.76</td>\n",
       "      <td>11.07</td>\n",
       "    </tr>\n",
       "    <tr>\n",
       "      <th>3</th>\n",
       "      <td>42.11</td>\n",
       "      <td>Fenway</td>\n",
       "      <td>1.0</td>\n",
       "      <td>1012.13</td>\n",
       "      <td>0.0969</td>\n",
       "      <td>1545003901</td>\n",
       "      <td>0.77</td>\n",
       "      <td>11.09</td>\n",
       "    </tr>\n",
       "    <tr>\n",
       "      <th>4</th>\n",
       "      <td>43.13</td>\n",
       "      <td>Financial District</td>\n",
       "      <td>1.0</td>\n",
       "      <td>1012.14</td>\n",
       "      <td>0.1786</td>\n",
       "      <td>1545003901</td>\n",
       "      <td>0.75</td>\n",
       "      <td>11.49</td>\n",
       "    </tr>\n",
       "  </tbody>\n",
       "</table>\n",
       "</div>"
      ],
      "text/plain": [
       "    temp            location  clouds  pressure    rain  time_stamp  humidity  \\\n",
       "0  42.42            Back Bay     1.0   1012.14  0.1228  1545003901      0.77   \n",
       "1  42.43         Beacon Hill     1.0   1012.15  0.1846  1545003901      0.76   \n",
       "2  42.50   Boston University     1.0   1012.15  0.1089  1545003901      0.76   \n",
       "3  42.11              Fenway     1.0   1012.13  0.0969  1545003901      0.77   \n",
       "4  43.13  Financial District     1.0   1012.14  0.1786  1545003901      0.75   \n",
       "\n",
       "    wind  \n",
       "0  11.25  \n",
       "1  11.32  \n",
       "2  11.07  \n",
       "3  11.09  \n",
       "4  11.49  "
      ]
     },
     "execution_count": 412,
     "metadata": {},
     "output_type": "execute_result"
    }
   ],
   "source": [
    "df_weather=pd.read_csv('weather.csv')\n",
    "df_weather.head()"
   ]
  },
  {
   "cell_type": "code",
   "execution_count": 413,
   "id": "789d84f6",
   "metadata": {},
   "outputs": [
    {
     "data": {
      "text/html": [
       "<div>\n",
       "<style scoped>\n",
       "    .dataframe tbody tr th:only-of-type {\n",
       "        vertical-align: middle;\n",
       "    }\n",
       "\n",
       "    .dataframe tbody tr th {\n",
       "        vertical-align: top;\n",
       "    }\n",
       "\n",
       "    .dataframe thead th {\n",
       "        text-align: right;\n",
       "    }\n",
       "</style>\n",
       "<table border=\"1\" class=\"dataframe\">\n",
       "  <thead>\n",
       "    <tr style=\"text-align: right;\">\n",
       "      <th></th>\n",
       "      <th>distance</th>\n",
       "      <th>time_stamp</th>\n",
       "      <th>price</th>\n",
       "      <th>surge_multiplier</th>\n",
       "    </tr>\n",
       "  </thead>\n",
       "  <tbody>\n",
       "    <tr>\n",
       "      <th>count</th>\n",
       "      <td>693071.000000</td>\n",
       "      <td>6.930710e+05</td>\n",
       "      <td>637976.000000</td>\n",
       "      <td>693071.000000</td>\n",
       "    </tr>\n",
       "    <tr>\n",
       "      <th>mean</th>\n",
       "      <td>2.189430</td>\n",
       "      <td>1.544046e+12</td>\n",
       "      <td>16.545125</td>\n",
       "      <td>1.013870</td>\n",
       "    </tr>\n",
       "    <tr>\n",
       "      <th>std</th>\n",
       "      <td>1.138937</td>\n",
       "      <td>6.891925e+08</td>\n",
       "      <td>9.324359</td>\n",
       "      <td>0.091641</td>\n",
       "    </tr>\n",
       "    <tr>\n",
       "      <th>min</th>\n",
       "      <td>0.020000</td>\n",
       "      <td>1.543204e+12</td>\n",
       "      <td>2.500000</td>\n",
       "      <td>1.000000</td>\n",
       "    </tr>\n",
       "    <tr>\n",
       "      <th>25%</th>\n",
       "      <td>1.280000</td>\n",
       "      <td>1.543444e+12</td>\n",
       "      <td>9.000000</td>\n",
       "      <td>1.000000</td>\n",
       "    </tr>\n",
       "    <tr>\n",
       "      <th>50%</th>\n",
       "      <td>2.160000</td>\n",
       "      <td>1.543737e+12</td>\n",
       "      <td>13.500000</td>\n",
       "      <td>1.000000</td>\n",
       "    </tr>\n",
       "    <tr>\n",
       "      <th>75%</th>\n",
       "      <td>2.920000</td>\n",
       "      <td>1.544828e+12</td>\n",
       "      <td>22.500000</td>\n",
       "      <td>1.000000</td>\n",
       "    </tr>\n",
       "    <tr>\n",
       "      <th>max</th>\n",
       "      <td>7.860000</td>\n",
       "      <td>1.545161e+12</td>\n",
       "      <td>97.500000</td>\n",
       "      <td>3.000000</td>\n",
       "    </tr>\n",
       "  </tbody>\n",
       "</table>\n",
       "</div>"
      ],
      "text/plain": [
       "            distance    time_stamp          price  surge_multiplier\n",
       "count  693071.000000  6.930710e+05  637976.000000     693071.000000\n",
       "mean        2.189430  1.544046e+12      16.545125          1.013870\n",
       "std         1.138937  6.891925e+08       9.324359          0.091641\n",
       "min         0.020000  1.543204e+12       2.500000          1.000000\n",
       "25%         1.280000  1.543444e+12       9.000000          1.000000\n",
       "50%         2.160000  1.543737e+12      13.500000          1.000000\n",
       "75%         2.920000  1.544828e+12      22.500000          1.000000\n",
       "max         7.860000  1.545161e+12      97.500000          3.000000"
      ]
     },
     "execution_count": 413,
     "metadata": {},
     "output_type": "execute_result"
    }
   ],
   "source": [
    "df_ride.describe()"
   ]
  },
  {
   "cell_type": "code",
   "execution_count": 414,
   "id": "df03b843",
   "metadata": {},
   "outputs": [
    {
     "data": {
      "text/plain": [
       "(693071, 10)"
      ]
     },
     "execution_count": 414,
     "metadata": {},
     "output_type": "execute_result"
    }
   ],
   "source": [
    "df_ride.shape"
   ]
  },
  {
   "cell_type": "code",
   "execution_count": 415,
   "id": "84048e2a",
   "metadata": {},
   "outputs": [
    {
     "data": {
      "text/plain": [
       "<bound method DataFrame.info of         distance cab_type     time_stamp    destination            source  \\\n",
       "0           0.44     Lyft  1544952607890  North Station  Haymarket Square   \n",
       "1           0.44     Lyft  1543284023677  North Station  Haymarket Square   \n",
       "2           0.44     Lyft  1543366822198  North Station  Haymarket Square   \n",
       "3           0.44     Lyft  1543553582749  North Station  Haymarket Square   \n",
       "4           0.44     Lyft  1543463360223  North Station  Haymarket Square   \n",
       "...          ...      ...            ...            ...               ...   \n",
       "693066      1.00     Uber  1543708385534      North End          West End   \n",
       "693067      1.00     Uber  1543708385534      North End          West End   \n",
       "693068      1.00     Uber  1543708385534      North End          West End   \n",
       "693069      1.00     Uber  1543708385534      North End          West End   \n",
       "693070      1.00     Uber  1543708385534      North End          West End   \n",
       "\n",
       "        price  surge_multiplier                                    id  \\\n",
       "0         5.0               1.0  424553bb-7174-41ea-aeb4-fe06d4f4b9d7   \n",
       "1        11.0               1.0  4bd23055-6827-41c6-b23b-3c491f24e74d   \n",
       "2         7.0               1.0  981a3613-77af-4620-a42a-0c0866077d1e   \n",
       "3        26.0               1.0  c2d88af2-d278-4bfd-a8d0-29ca77cc5512   \n",
       "4         9.0               1.0  e0126e1f-8ca9-4f2e-82b3-50505a09db9a   \n",
       "...       ...               ...                                   ...   \n",
       "693066   13.0               1.0  616d3611-1820-450a-9845-a9ff304a4842   \n",
       "693067    9.5               1.0  633a3fc3-1f86-4b9e-9d48-2b7132112341   \n",
       "693068    NaN               1.0  64d451d0-639f-47a4-9b7c-6fd92fbd264f   \n",
       "693069   27.0               1.0  727e5f07-a96b-4ad1-a2c7-9abc3ad55b4e   \n",
       "693070   10.0               1.0  e7fdc087-fe86-40a5-a3c3-3b2a8badcbda   \n",
       "\n",
       "                                  product_id          name  \n",
       "0                                  lyft_line        Shared  \n",
       "1                               lyft_premier           Lux  \n",
       "2                                       lyft          Lyft  \n",
       "3                                lyft_luxsuv  Lux Black XL  \n",
       "4                                  lyft_plus       Lyft XL  \n",
       "...                                      ...           ...  \n",
       "693066  6f72dfc5-27f1-42e8-84db-ccc7a75f6969        UberXL  \n",
       "693067  55c66225-fbe7-4fd5-9072-eab1ece5e23e         UberX  \n",
       "693068  8cf7e821-f0d3-49c6-8eba-e679c0ebcf6a          Taxi  \n",
       "693069  6d318bcc-22a3-4af6-bddd-b409bfce1546     Black SUV  \n",
       "693070  997acbb5-e102-41e1-b155-9df7de0a73f2      UberPool  \n",
       "\n",
       "[693071 rows x 10 columns]>"
      ]
     },
     "execution_count": 415,
     "metadata": {},
     "output_type": "execute_result"
    }
   ],
   "source": [
    "df_ride.info"
   ]
  },
  {
   "cell_type": "code",
   "execution_count": 416,
   "id": "71ec1a5c",
   "metadata": {},
   "outputs": [
    {
     "data": {
      "text/plain": [
       "<bound method NDFrame.describe of        temp                 location  clouds  pressure    rain  time_stamp  \\\n",
       "0     42.42                 Back Bay    1.00   1012.14  0.1228  1545003901   \n",
       "1     42.43              Beacon Hill    1.00   1012.15  0.1846  1545003901   \n",
       "2     42.50        Boston University    1.00   1012.15  0.1089  1545003901   \n",
       "3     42.11                   Fenway    1.00   1012.13  0.0969  1545003901   \n",
       "4     43.13       Financial District    1.00   1012.14  0.1786  1545003901   \n",
       "...     ...                      ...     ...       ...     ...         ...   \n",
       "6271  44.72            North Station    0.89   1000.69     NaN  1543819974   \n",
       "6272  44.85  Northeastern University    0.88   1000.71     NaN  1543819974   \n",
       "6273  44.82            South Station    0.89   1000.70     NaN  1543819974   \n",
       "6274  44.78         Theatre District    0.89   1000.70     NaN  1543819974   \n",
       "6275  44.69                 West End    0.89   1000.70     NaN  1543819974   \n",
       "\n",
       "      humidity   wind  \n",
       "0         0.77  11.25  \n",
       "1         0.76  11.32  \n",
       "2         0.76  11.07  \n",
       "3         0.77  11.09  \n",
       "4         0.75  11.49  \n",
       "...        ...    ...  \n",
       "6271      0.96   1.52  \n",
       "6272      0.96   1.54  \n",
       "6273      0.96   1.54  \n",
       "6274      0.96   1.54  \n",
       "6275      0.96   1.52  \n",
       "\n",
       "[6276 rows x 8 columns]>"
      ]
     },
     "execution_count": 416,
     "metadata": {},
     "output_type": "execute_result"
    }
   ],
   "source": [
    "df_weather.describe"
   ]
  },
  {
   "cell_type": "code",
   "execution_count": 417,
   "id": "4e9578e8",
   "metadata": {},
   "outputs": [
    {
     "data": {
      "text/plain": [
       "distance                0\n",
       "cab_type                0\n",
       "time_stamp              0\n",
       "destination             0\n",
       "source                  0\n",
       "price               55095\n",
       "surge_multiplier        0\n",
       "id                      0\n",
       "product_id              0\n",
       "name                    0\n",
       "dtype: int64"
      ]
     },
     "execution_count": 417,
     "metadata": {},
     "output_type": "execute_result"
    }
   ],
   "source": [
    "df_ride.isnull().sum()"
   ]
  },
  {
   "cell_type": "code",
   "execution_count": 418,
   "id": "16a8a8e8",
   "metadata": {},
   "outputs": [
    {
     "data": {
      "text/plain": [
       "Uber    385663\n",
       "Lyft    307408\n",
       "Name: cab_type, dtype: int64"
      ]
     },
     "execution_count": 418,
     "metadata": {},
     "output_type": "execute_result"
    }
   ],
   "source": [
    "df_ride['cab_type'].value_counts()"
   ]
  },
  {
   "cell_type": "code",
   "execution_count": 419,
   "id": "9a907e03",
   "metadata": {},
   "outputs": [
    {
     "data": {
      "text/html": [
       "<div>\n",
       "<style scoped>\n",
       "    .dataframe tbody tr th:only-of-type {\n",
       "        vertical-align: middle;\n",
       "    }\n",
       "\n",
       "    .dataframe tbody tr th {\n",
       "        vertical-align: top;\n",
       "    }\n",
       "\n",
       "    .dataframe thead th {\n",
       "        text-align: right;\n",
       "    }\n",
       "</style>\n",
       "<table border=\"1\" class=\"dataframe\">\n",
       "  <thead>\n",
       "    <tr style=\"text-align: right;\">\n",
       "      <th></th>\n",
       "      <th>distance</th>\n",
       "      <th>cab_type</th>\n",
       "      <th>time_stamp</th>\n",
       "      <th>destination</th>\n",
       "      <th>source</th>\n",
       "      <th>price</th>\n",
       "      <th>surge_multiplier</th>\n",
       "      <th>id</th>\n",
       "      <th>product_id</th>\n",
       "      <th>name</th>\n",
       "    </tr>\n",
       "  </thead>\n",
       "  <tbody>\n",
       "    <tr>\n",
       "      <th>0</th>\n",
       "      <td>0.44</td>\n",
       "      <td>Lyft</td>\n",
       "      <td>1544952607890</td>\n",
       "      <td>North Station</td>\n",
       "      <td>Haymarket Square</td>\n",
       "      <td>5.0</td>\n",
       "      <td>1.0</td>\n",
       "      <td>424553bb-7174-41ea-aeb4-fe06d4f4b9d7</td>\n",
       "      <td>lyft_line</td>\n",
       "      <td>Shared</td>\n",
       "    </tr>\n",
       "    <tr>\n",
       "      <th>1</th>\n",
       "      <td>0.44</td>\n",
       "      <td>Lyft</td>\n",
       "      <td>1543284023677</td>\n",
       "      <td>North Station</td>\n",
       "      <td>Haymarket Square</td>\n",
       "      <td>11.0</td>\n",
       "      <td>1.0</td>\n",
       "      <td>4bd23055-6827-41c6-b23b-3c491f24e74d</td>\n",
       "      <td>lyft_premier</td>\n",
       "      <td>Lux</td>\n",
       "    </tr>\n",
       "    <tr>\n",
       "      <th>2</th>\n",
       "      <td>0.44</td>\n",
       "      <td>Lyft</td>\n",
       "      <td>1543366822198</td>\n",
       "      <td>North Station</td>\n",
       "      <td>Haymarket Square</td>\n",
       "      <td>7.0</td>\n",
       "      <td>1.0</td>\n",
       "      <td>981a3613-77af-4620-a42a-0c0866077d1e</td>\n",
       "      <td>lyft</td>\n",
       "      <td>Lyft</td>\n",
       "    </tr>\n",
       "    <tr>\n",
       "      <th>3</th>\n",
       "      <td>0.44</td>\n",
       "      <td>Lyft</td>\n",
       "      <td>1543553582749</td>\n",
       "      <td>North Station</td>\n",
       "      <td>Haymarket Square</td>\n",
       "      <td>26.0</td>\n",
       "      <td>1.0</td>\n",
       "      <td>c2d88af2-d278-4bfd-a8d0-29ca77cc5512</td>\n",
       "      <td>lyft_luxsuv</td>\n",
       "      <td>Lux Black XL</td>\n",
       "    </tr>\n",
       "    <tr>\n",
       "      <th>4</th>\n",
       "      <td>0.44</td>\n",
       "      <td>Lyft</td>\n",
       "      <td>1543463360223</td>\n",
       "      <td>North Station</td>\n",
       "      <td>Haymarket Square</td>\n",
       "      <td>9.0</td>\n",
       "      <td>1.0</td>\n",
       "      <td>e0126e1f-8ca9-4f2e-82b3-50505a09db9a</td>\n",
       "      <td>lyft_plus</td>\n",
       "      <td>Lyft XL</td>\n",
       "    </tr>\n",
       "  </tbody>\n",
       "</table>\n",
       "</div>"
      ],
      "text/plain": [
       "   distance cab_type     time_stamp    destination            source  price  \\\n",
       "0      0.44     Lyft  1544952607890  North Station  Haymarket Square    5.0   \n",
       "1      0.44     Lyft  1543284023677  North Station  Haymarket Square   11.0   \n",
       "2      0.44     Lyft  1543366822198  North Station  Haymarket Square    7.0   \n",
       "3      0.44     Lyft  1543553582749  North Station  Haymarket Square   26.0   \n",
       "4      0.44     Lyft  1543463360223  North Station  Haymarket Square    9.0   \n",
       "\n",
       "   surge_multiplier                                    id    product_id  \\\n",
       "0               1.0  424553bb-7174-41ea-aeb4-fe06d4f4b9d7     lyft_line   \n",
       "1               1.0  4bd23055-6827-41c6-b23b-3c491f24e74d  lyft_premier   \n",
       "2               1.0  981a3613-77af-4620-a42a-0c0866077d1e          lyft   \n",
       "3               1.0  c2d88af2-d278-4bfd-a8d0-29ca77cc5512   lyft_luxsuv   \n",
       "4               1.0  e0126e1f-8ca9-4f2e-82b3-50505a09db9a     lyft_plus   \n",
       "\n",
       "           name  \n",
       "0        Shared  \n",
       "1           Lux  \n",
       "2          Lyft  \n",
       "3  Lux Black XL  \n",
       "4       Lyft XL  "
      ]
     },
     "execution_count": 419,
     "metadata": {},
     "output_type": "execute_result"
    }
   ],
   "source": [
    "df_ride.head()"
   ]
  },
  {
   "cell_type": "code",
   "execution_count": 420,
   "id": "3e681a26",
   "metadata": {},
   "outputs": [
    {
     "data": {
      "text/plain": [
       "Financial District         58857\n",
       "Theatre District           57813\n",
       "Back Bay                   57792\n",
       "Boston University          57764\n",
       "North End                  57763\n",
       "Fenway                     57757\n",
       "Northeastern University    57756\n",
       "South Station              57750\n",
       "Haymarket Square           57736\n",
       "West End                   57562\n",
       "Beacon Hill                57403\n",
       "North Station              57118\n",
       "Name: source, dtype: int64"
      ]
     },
     "execution_count": 420,
     "metadata": {},
     "output_type": "execute_result"
    }
   ],
   "source": [
    "df_ride['source'].value_counts()"
   ]
  },
  {
   "cell_type": "code",
   "execution_count": 421,
   "id": "f8e81ec8",
   "metadata": {},
   "outputs": [
    {
     "data": {
      "text/plain": [
       "Financial District         58851\n",
       "Theatre District           57798\n",
       "Back Bay                   57780\n",
       "Boston University          57764\n",
       "Haymarket Square           57764\n",
       "Fenway                     57757\n",
       "North End                  57756\n",
       "Northeastern University    57755\n",
       "South Station              57749\n",
       "West End                   57575\n",
       "Beacon Hill                57403\n",
       "North Station              57119\n",
       "Name: destination, dtype: int64"
      ]
     },
     "execution_count": 421,
     "metadata": {},
     "output_type": "execute_result"
    }
   ],
   "source": [
    "df_ride['destination'].value_counts()"
   ]
  },
  {
   "cell_type": "code",
   "execution_count": 422,
   "id": "cbd9e1d1",
   "metadata": {},
   "outputs": [
    {
     "data": {
      "text/plain": [
       "1.00    672096\n",
       "1.25     11085\n",
       "1.50      5065\n",
       "1.75      2420\n",
       "2.00      2239\n",
       "2.50       154\n",
       "3.00        12\n",
       "Name: surge_multiplier, dtype: int64"
      ]
     },
     "execution_count": 422,
     "metadata": {},
     "output_type": "execute_result"
    }
   ],
   "source": [
    "df_ride['surge_multiplier'].value_counts()"
   ]
  },
  {
   "cell_type": "code",
   "execution_count": 423,
   "id": "38473d35",
   "metadata": {},
   "outputs": [
    {
     "data": {
      "text/plain": [
       "UberXL          55096\n",
       "Black SUV       55096\n",
       "WAV             55096\n",
       "Taxi            55095\n",
       "Black           55095\n",
       "UberX           55094\n",
       "UberPool        55091\n",
       "Lux Black       51235\n",
       "Lux Black XL    51235\n",
       "Lyft XL         51235\n",
       "Lux             51235\n",
       "Lyft            51235\n",
       "Shared          51233\n",
       "Name: name, dtype: int64"
      ]
     },
     "execution_count": 423,
     "metadata": {},
     "output_type": "execute_result"
    }
   ],
   "source": [
    "df_ride['name'].value_counts()"
   ]
  },
  {
   "cell_type": "code",
   "execution_count": 424,
   "id": "7bdc35e6",
   "metadata": {},
   "outputs": [
    {
     "data": {
      "text/plain": [
       "distance            float64\n",
       "cab_type             object\n",
       "time_stamp            int64\n",
       "destination          object\n",
       "source               object\n",
       "price               float64\n",
       "surge_multiplier    float64\n",
       "id                   object\n",
       "product_id           object\n",
       "name                 object\n",
       "dtype: object"
      ]
     },
     "execution_count": 424,
     "metadata": {},
     "output_type": "execute_result"
    }
   ],
   "source": [
    "df_ride.dtypes"
   ]
  },
  {
   "cell_type": "code",
   "execution_count": 425,
   "id": "aa687bb8",
   "metadata": {
    "scrolled": true
   },
   "outputs": [
    {
     "data": {
      "text/plain": [
       "(array([1.0817e+04, 1.7429e+04, 8.9541e+04, 7.8963e+04, 7.3055e+04,\n",
       "        5.1739e+04, 2.2969e+04, 6.7703e+04, 3.6246e+04, 6.2550e+03,\n",
       "        3.5864e+04, 8.3750e+03, 3.6323e+04, 3.4103e+04, 1.5489e+04,\n",
       "        1.6437e+04, 1.2869e+04, 4.2080e+03, 9.6400e+03, 7.0300e+02,\n",
       "        1.2660e+03, 2.8510e+03, 2.0070e+03, 9.4000e+02, 1.5100e+02,\n",
       "        9.1000e+01, 5.7200e+02, 5.7700e+02, 1.8000e+02, 2.0000e+01,\n",
       "        5.0000e+00, 1.0300e+02, 1.9700e+02, 1.0000e+00, 1.0200e+02,\n",
       "        0.0000e+00, 0.0000e+00, 5.4000e+01, 3.6000e+01, 0.0000e+00,\n",
       "        4.6000e+01, 2.2000e+01, 0.0000e+00, 0.0000e+00, 5.0000e+00,\n",
       "        1.2000e+01, 0.0000e+00, 9.0000e+00, 0.0000e+00, 1.0000e+00]),\n",
       " array([ 2.5,  4.4,  6.3,  8.2, 10.1, 12. , 13.9, 15.8, 17.7, 19.6, 21.5,\n",
       "        23.4, 25.3, 27.2, 29.1, 31. , 32.9, 34.8, 36.7, 38.6, 40.5, 42.4,\n",
       "        44.3, 46.2, 48.1, 50. , 51.9, 53.8, 55.7, 57.6, 59.5, 61.4, 63.3,\n",
       "        65.2, 67.1, 69. , 70.9, 72.8, 74.7, 76.6, 78.5, 80.4, 82.3, 84.2,\n",
       "        86.1, 88. , 89.9, 91.8, 93.7, 95.6, 97.5]),\n",
       " <BarContainer object of 50 artists>)"
      ]
     },
     "execution_count": 425,
     "metadata": {},
     "output_type": "execute_result"
    },
    {
     "data": {
      "image/png": "[encoded data removed]",
      "text/plain": [
       "<Figure size 1130.4x720 with 1 Axes>"
      ]
     },
     "metadata": {},
     "output_type": "display_data"
    }
   ],
   "source": [
    "plt.hist(df_ride['price'],bins=50)"
   ]
  },
  {
   "cell_type": "code",
   "execution_count": 426,
   "id": "aa79998e",
   "metadata": {},
   "outputs": [
    {
     "data": {
      "text/plain": [
       "(array([5.3900e+02, 2.1004e+04, 4.6243e+04, 4.0657e+04, 7.3532e+04,\n",
       "        8.0549e+04, 4.2628e+04, 3.1197e+04, 5.5257e+04, 6.0156e+04,\n",
       "        6.5459e+04, 6.2000e+04, 4.4619e+04, 1.6657e+04, 2.2870e+03,\n",
       "        3.7340e+03, 1.1928e+04, 2.0303e+04, 3.1560e+03, 8.9600e+02,\n",
       "        2.9020e+03, 3.5420e+03, 3.6000e+01, 1.2780e+03, 6.0000e+00,\n",
       "        0.0000e+00, 4.0600e+02, 2.5900e+02, 1.8270e+03, 1.4000e+01]),\n",
       " array([0.02      , 0.28133333, 0.54266667, 0.804     , 1.06533333,\n",
       "        1.32666667, 1.588     , 1.84933333, 2.11066667, 2.372     ,\n",
       "        2.63333333, 2.89466667, 3.156     , 3.41733333, 3.67866667,\n",
       "        3.94      , 4.20133333, 4.46266667, 4.724     , 4.98533333,\n",
       "        5.24666667, 5.508     , 5.76933333, 6.03066667, 6.292     ,\n",
       "        6.55333333, 6.81466667, 7.076     , 7.33733333, 7.59866667,\n",
       "        7.86      ]),\n",
       " <BarContainer object of 30 artists>)"
      ]
     },
     "execution_count": 426,
     "metadata": {},
     "output_type": "execute_result"
    },
    {
     "data": {
      "image/png": "[encoded data removed]",
      "text/plain": [
       "<Figure size 1130.4x720 with 1 Axes>"
      ]
     },
     "metadata": {},
     "output_type": "display_data"
    }
   ],
   "source": [
    "plt.hist(df_ride['distance'],bins=30)"
   ]
  },
  {
   "cell_type": "code",
   "execution_count": 427,
   "id": "a711665d",
   "metadata": {},
   "outputs": [
    {
     "data": {
      "text/html": [
       "<div>\n",
       "<style scoped>\n",
       "    .dataframe tbody tr th:only-of-type {\n",
       "        vertical-align: middle;\n",
       "    }\n",
       "\n",
       "    .dataframe tbody tr th {\n",
       "        vertical-align: top;\n",
       "    }\n",
       "\n",
       "    .dataframe thead th {\n",
       "        text-align: right;\n",
       "    }\n",
       "</style>\n",
       "<table border=\"1\" class=\"dataframe\">\n",
       "  <thead>\n",
       "    <tr style=\"text-align: right;\">\n",
       "      <th></th>\n",
       "      <th>temp</th>\n",
       "      <th>location</th>\n",
       "      <th>clouds</th>\n",
       "      <th>pressure</th>\n",
       "      <th>rain</th>\n",
       "      <th>time_stamp</th>\n",
       "      <th>humidity</th>\n",
       "      <th>wind</th>\n",
       "    </tr>\n",
       "  </thead>\n",
       "  <tbody>\n",
       "    <tr>\n",
       "      <th>0</th>\n",
       "      <td>42.42</td>\n",
       "      <td>Back Bay</td>\n",
       "      <td>1.0</td>\n",
       "      <td>1012.14</td>\n",
       "      <td>0.1228</td>\n",
       "      <td>1545003901</td>\n",
       "      <td>0.77</td>\n",
       "      <td>11.25</td>\n",
       "    </tr>\n",
       "    <tr>\n",
       "      <th>1</th>\n",
       "      <td>42.43</td>\n",
       "      <td>Beacon Hill</td>\n",
       "      <td>1.0</td>\n",
       "      <td>1012.15</td>\n",
       "      <td>0.1846</td>\n",
       "      <td>1545003901</td>\n",
       "      <td>0.76</td>\n",
       "      <td>11.32</td>\n",
       "    </tr>\n",
       "    <tr>\n",
       "      <th>2</th>\n",
       "      <td>42.50</td>\n",
       "      <td>Boston University</td>\n",
       "      <td>1.0</td>\n",
       "      <td>1012.15</td>\n",
       "      <td>0.1089</td>\n",
       "      <td>1545003901</td>\n",
       "      <td>0.76</td>\n",
       "      <td>11.07</td>\n",
       "    </tr>\n",
       "    <tr>\n",
       "      <th>3</th>\n",
       "      <td>42.11</td>\n",
       "      <td>Fenway</td>\n",
       "      <td>1.0</td>\n",
       "      <td>1012.13</td>\n",
       "      <td>0.0969</td>\n",
       "      <td>1545003901</td>\n",
       "      <td>0.77</td>\n",
       "      <td>11.09</td>\n",
       "    </tr>\n",
       "    <tr>\n",
       "      <th>4</th>\n",
       "      <td>43.13</td>\n",
       "      <td>Financial District</td>\n",
       "      <td>1.0</td>\n",
       "      <td>1012.14</td>\n",
       "      <td>0.1786</td>\n",
       "      <td>1545003901</td>\n",
       "      <td>0.75</td>\n",
       "      <td>11.49</td>\n",
       "    </tr>\n",
       "  </tbody>\n",
       "</table>\n",
       "</div>"
      ],
      "text/plain": [
       "    temp            location  clouds  pressure    rain  time_stamp  humidity  \\\n",
       "0  42.42            Back Bay     1.0   1012.14  0.1228  1545003901      0.77   \n",
       "1  42.43         Beacon Hill     1.0   1012.15  0.1846  1545003901      0.76   \n",
       "2  42.50   Boston University     1.0   1012.15  0.1089  1545003901      0.76   \n",
       "3  42.11              Fenway     1.0   1012.13  0.0969  1545003901      0.77   \n",
       "4  43.13  Financial District     1.0   1012.14  0.1786  1545003901      0.75   \n",
       "\n",
       "    wind  \n",
       "0  11.25  \n",
       "1  11.32  \n",
       "2  11.07  \n",
       "3  11.09  \n",
       "4  11.49  "
      ]
     },
     "execution_count": 427,
     "metadata": {},
     "output_type": "execute_result"
    }
   ],
   "source": [
    "df_weather.head()"
   ]
  },
  {
   "cell_type": "code",
   "execution_count": 428,
   "id": "c5923b8c",
   "metadata": {},
   "outputs": [],
   "source": [
    "source_df=df_weather.groupby('location').mean()"
   ]
  },
  {
   "cell_type": "code",
   "execution_count": 429,
   "id": "4472e314",
   "metadata": {},
   "outputs": [
    {
     "data": {
      "text/html": [
       "<div>\n",
       "<style scoped>\n",
       "    .dataframe tbody tr th:only-of-type {\n",
       "        vertical-align: middle;\n",
       "    }\n",
       "\n",
       "    .dataframe tbody tr th {\n",
       "        vertical-align: top;\n",
       "    }\n",
       "\n",
       "    .dataframe thead th {\n",
       "        text-align: right;\n",
       "    }\n",
       "</style>\n",
       "<table border=\"1\" class=\"dataframe\">\n",
       "  <thead>\n",
       "    <tr style=\"text-align: right;\">\n",
       "      <th></th>\n",
       "      <th>temp</th>\n",
       "      <th>clouds</th>\n",
       "      <th>pressure</th>\n",
       "      <th>rain</th>\n",
       "      <th>time_stamp</th>\n",
       "      <th>humidity</th>\n",
       "      <th>wind</th>\n",
       "    </tr>\n",
       "    <tr>\n",
       "      <th>location</th>\n",
       "      <th></th>\n",
       "      <th></th>\n",
       "      <th></th>\n",
       "      <th></th>\n",
       "      <th></th>\n",
       "      <th></th>\n",
       "      <th></th>\n",
       "    </tr>\n",
       "  </thead>\n",
       "  <tbody>\n",
       "    <tr>\n",
       "      <th>Back Bay</th>\n",
       "      <td>39.082122</td>\n",
       "      <td>0.678432</td>\n",
       "      <td>1008.447820</td>\n",
       "      <td>0.056012</td>\n",
       "      <td>1.543857e+09</td>\n",
       "      <td>0.764073</td>\n",
       "      <td>6.778528</td>\n",
       "    </tr>\n",
       "    <tr>\n",
       "      <th>Beacon Hill</th>\n",
       "      <td>39.047285</td>\n",
       "      <td>0.677801</td>\n",
       "      <td>1008.448356</td>\n",
       "      <td>0.057097</td>\n",
       "      <td>1.543857e+09</td>\n",
       "      <td>0.765048</td>\n",
       "      <td>6.810325</td>\n",
       "    </tr>\n",
       "    <tr>\n",
       "      <th>Boston University</th>\n",
       "      <td>39.047744</td>\n",
       "      <td>0.679235</td>\n",
       "      <td>1008.459254</td>\n",
       "      <td>0.054688</td>\n",
       "      <td>1.543857e+09</td>\n",
       "      <td>0.763786</td>\n",
       "      <td>6.692180</td>\n",
       "    </tr>\n",
       "    <tr>\n",
       "      <th>Fenway</th>\n",
       "      <td>38.964379</td>\n",
       "      <td>0.679866</td>\n",
       "      <td>1008.453289</td>\n",
       "      <td>0.054863</td>\n",
       "      <td>1.543857e+09</td>\n",
       "      <td>0.767266</td>\n",
       "      <td>6.711721</td>\n",
       "    </tr>\n",
       "    <tr>\n",
       "      <th>Financial District</th>\n",
       "      <td>39.410822</td>\n",
       "      <td>0.676730</td>\n",
       "      <td>1008.435793</td>\n",
       "      <td>0.061352</td>\n",
       "      <td>1.543857e+09</td>\n",
       "      <td>0.754837</td>\n",
       "      <td>6.860019</td>\n",
       "    </tr>\n",
       "  </tbody>\n",
       "</table>\n",
       "</div>"
      ],
      "text/plain": [
       "                         temp    clouds     pressure      rain    time_stamp  \\\n",
       "location                                                                       \n",
       "Back Bay            39.082122  0.678432  1008.447820  0.056012  1.543857e+09   \n",
       "Beacon Hill         39.047285  0.677801  1008.448356  0.057097  1.543857e+09   \n",
       "Boston University   39.047744  0.679235  1008.459254  0.054688  1.543857e+09   \n",
       "Fenway              38.964379  0.679866  1008.453289  0.054863  1.543857e+09   \n",
       "Financial District  39.410822  0.676730  1008.435793  0.061352  1.543857e+09   \n",
       "\n",
       "                    humidity      wind  \n",
       "location                                \n",
       "Back Bay            0.764073  6.778528  \n",
       "Beacon Hill         0.765048  6.810325  \n",
       "Boston University   0.763786  6.692180  \n",
       "Fenway              0.767266  6.711721  \n",
       "Financial District  0.754837  6.860019  "
      ]
     },
     "execution_count": 429,
     "metadata": {},
     "output_type": "execute_result"
    }
   ],
   "source": [
    "source_df.head()"
   ]
  },
  {
   "cell_type": "code",
   "execution_count": 430,
   "id": "e4a1173d",
   "metadata": {},
   "outputs": [],
   "source": [
    "source_df.drop('time_stamp',inplace=True,axis=1)"
   ]
  },
  {
   "cell_type": "code",
   "execution_count": 431,
   "id": "17d59a74",
   "metadata": {},
   "outputs": [
    {
     "data": {
      "text/html": [
       "<div>\n",
       "<style scoped>\n",
       "    .dataframe tbody tr th:only-of-type {\n",
       "        vertical-align: middle;\n",
       "    }\n",
       "\n",
       "    .dataframe tbody tr th {\n",
       "        vertical-align: top;\n",
       "    }\n",
       "\n",
       "    .dataframe thead th {\n",
       "        text-align: right;\n",
       "    }\n",
       "</style>\n",
       "<table border=\"1\" class=\"dataframe\">\n",
       "  <thead>\n",
       "    <tr style=\"text-align: right;\">\n",
       "      <th></th>\n",
       "      <th>temp</th>\n",
       "      <th>clouds</th>\n",
       "      <th>pressure</th>\n",
       "      <th>rain</th>\n",
       "      <th>humidity</th>\n",
       "      <th>wind</th>\n",
       "    </tr>\n",
       "    <tr>\n",
       "      <th>location</th>\n",
       "      <th></th>\n",
       "      <th></th>\n",
       "      <th></th>\n",
       "      <th></th>\n",
       "      <th></th>\n",
       "      <th></th>\n",
       "    </tr>\n",
       "  </thead>\n",
       "  <tbody>\n",
       "    <tr>\n",
       "      <th>Back Bay</th>\n",
       "      <td>39.082122</td>\n",
       "      <td>0.678432</td>\n",
       "      <td>1008.447820</td>\n",
       "      <td>0.056012</td>\n",
       "      <td>0.764073</td>\n",
       "      <td>6.778528</td>\n",
       "    </tr>\n",
       "    <tr>\n",
       "      <th>Beacon Hill</th>\n",
       "      <td>39.047285</td>\n",
       "      <td>0.677801</td>\n",
       "      <td>1008.448356</td>\n",
       "      <td>0.057097</td>\n",
       "      <td>0.765048</td>\n",
       "      <td>6.810325</td>\n",
       "    </tr>\n",
       "    <tr>\n",
       "      <th>Boston University</th>\n",
       "      <td>39.047744</td>\n",
       "      <td>0.679235</td>\n",
       "      <td>1008.459254</td>\n",
       "      <td>0.054688</td>\n",
       "      <td>0.763786</td>\n",
       "      <td>6.692180</td>\n",
       "    </tr>\n",
       "    <tr>\n",
       "      <th>Fenway</th>\n",
       "      <td>38.964379</td>\n",
       "      <td>0.679866</td>\n",
       "      <td>1008.453289</td>\n",
       "      <td>0.054863</td>\n",
       "      <td>0.767266</td>\n",
       "      <td>6.711721</td>\n",
       "    </tr>\n",
       "    <tr>\n",
       "      <th>Financial District</th>\n",
       "      <td>39.410822</td>\n",
       "      <td>0.676730</td>\n",
       "      <td>1008.435793</td>\n",
       "      <td>0.061352</td>\n",
       "      <td>0.754837</td>\n",
       "      <td>6.860019</td>\n",
       "    </tr>\n",
       "  </tbody>\n",
       "</table>\n",
       "</div>"
      ],
      "text/plain": [
       "                         temp    clouds     pressure      rain  humidity  \\\n",
       "location                                                                   \n",
       "Back Bay            39.082122  0.678432  1008.447820  0.056012  0.764073   \n",
       "Beacon Hill         39.047285  0.677801  1008.448356  0.057097  0.765048   \n",
       "Boston University   39.047744  0.679235  1008.459254  0.054688  0.763786   \n",
       "Fenway              38.964379  0.679866  1008.453289  0.054863  0.767266   \n",
       "Financial District  39.410822  0.676730  1008.435793  0.061352  0.754837   \n",
       "\n",
       "                        wind  \n",
       "location                      \n",
       "Back Bay            6.778528  \n",
       "Beacon Hill         6.810325  \n",
       "Boston University   6.692180  \n",
       "Fenway              6.711721  \n",
       "Financial District  6.860019  "
      ]
     },
     "execution_count": 431,
     "metadata": {},
     "output_type": "execute_result"
    }
   ],
   "source": [
    "source_df.head()"
   ]
  },
  {
   "cell_type": "code",
   "execution_count": 432,
   "id": "dc8741af",
   "metadata": {},
   "outputs": [],
   "source": [
    "source_df.reset_index(inplace=True)\n"
   ]
  },
  {
   "cell_type": "code",
   "execution_count": 433,
   "id": "f9ee4a0a",
   "metadata": {},
   "outputs": [
    {
     "data": {
      "text/html": [
       "<div>\n",
       "<style scoped>\n",
       "    .dataframe tbody tr th:only-of-type {\n",
       "        vertical-align: middle;\n",
       "    }\n",
       "\n",
       "    .dataframe tbody tr th {\n",
       "        vertical-align: top;\n",
       "    }\n",
       "\n",
       "    .dataframe thead th {\n",
       "        text-align: right;\n",
       "    }\n",
       "</style>\n",
       "<table border=\"1\" class=\"dataframe\">\n",
       "  <thead>\n",
       "    <tr style=\"text-align: right;\">\n",
       "      <th></th>\n",
       "      <th>location</th>\n",
       "      <th>temp</th>\n",
       "      <th>clouds</th>\n",
       "      <th>pressure</th>\n",
       "      <th>rain</th>\n",
       "      <th>humidity</th>\n",
       "      <th>wind</th>\n",
       "    </tr>\n",
       "  </thead>\n",
       "  <tbody>\n",
       "    <tr>\n",
       "      <th>0</th>\n",
       "      <td>Back Bay</td>\n",
       "      <td>39.082122</td>\n",
       "      <td>0.678432</td>\n",
       "      <td>1008.447820</td>\n",
       "      <td>0.056012</td>\n",
       "      <td>0.764073</td>\n",
       "      <td>6.778528</td>\n",
       "    </tr>\n",
       "    <tr>\n",
       "      <th>1</th>\n",
       "      <td>Beacon Hill</td>\n",
       "      <td>39.047285</td>\n",
       "      <td>0.677801</td>\n",
       "      <td>1008.448356</td>\n",
       "      <td>0.057097</td>\n",
       "      <td>0.765048</td>\n",
       "      <td>6.810325</td>\n",
       "    </tr>\n",
       "    <tr>\n",
       "      <th>2</th>\n",
       "      <td>Boston University</td>\n",
       "      <td>39.047744</td>\n",
       "      <td>0.679235</td>\n",
       "      <td>1008.459254</td>\n",
       "      <td>0.054688</td>\n",
       "      <td>0.763786</td>\n",
       "      <td>6.692180</td>\n",
       "    </tr>\n",
       "    <tr>\n",
       "      <th>3</th>\n",
       "      <td>Fenway</td>\n",
       "      <td>38.964379</td>\n",
       "      <td>0.679866</td>\n",
       "      <td>1008.453289</td>\n",
       "      <td>0.054863</td>\n",
       "      <td>0.767266</td>\n",
       "      <td>6.711721</td>\n",
       "    </tr>\n",
       "    <tr>\n",
       "      <th>4</th>\n",
       "      <td>Financial District</td>\n",
       "      <td>39.410822</td>\n",
       "      <td>0.676730</td>\n",
       "      <td>1008.435793</td>\n",
       "      <td>0.061352</td>\n",
       "      <td>0.754837</td>\n",
       "      <td>6.860019</td>\n",
       "    </tr>\n",
       "  </tbody>\n",
       "</table>\n",
       "</div>"
      ],
      "text/plain": [
       "             location       temp    clouds     pressure      rain  humidity  \\\n",
       "0            Back Bay  39.082122  0.678432  1008.447820  0.056012  0.764073   \n",
       "1         Beacon Hill  39.047285  0.677801  1008.448356  0.057097  0.765048   \n",
       "2   Boston University  39.047744  0.679235  1008.459254  0.054688  0.763786   \n",
       "3              Fenway  38.964379  0.679866  1008.453289  0.054863  0.767266   \n",
       "4  Financial District  39.410822  0.676730  1008.435793  0.061352  0.754837   \n",
       "\n",
       "       wind  \n",
       "0  6.778528  \n",
       "1  6.810325  \n",
       "2  6.692180  \n",
       "3  6.711721  \n",
       "4  6.860019  "
      ]
     },
     "execution_count": 433,
     "metadata": {},
     "output_type": "execute_result"
    }
   ],
   "source": [
    "source_df.head()"
   ]
  },
  {
   "cell_type": "code",
   "execution_count": 434,
   "id": "17ebf9fa",
   "metadata": {},
   "outputs": [],
   "source": [
    "source_df.columns=['source','source_temp','source_clouds','source_pressure','source_rain','source_humidity','source_wind']"
   ]
  },
  {
   "cell_type": "code",
   "execution_count": 435,
   "id": "f7101954",
   "metadata": {},
   "outputs": [],
   "source": [
    "destination_df=df_weather.groupby('location').mean()"
   ]
  },
  {
   "cell_type": "code",
   "execution_count": 436,
   "id": "413b1872",
   "metadata": {},
   "outputs": [
    {
     "data": {
      "text/html": [
       "<div>\n",
       "<style scoped>\n",
       "    .dataframe tbody tr th:only-of-type {\n",
       "        vertical-align: middle;\n",
       "    }\n",
       "\n",
       "    .dataframe tbody tr th {\n",
       "        vertical-align: top;\n",
       "    }\n",
       "\n",
       "    .dataframe thead th {\n",
       "        text-align: right;\n",
       "    }\n",
       "</style>\n",
       "<table border=\"1\" class=\"dataframe\">\n",
       "  <thead>\n",
       "    <tr style=\"text-align: right;\">\n",
       "      <th></th>\n",
       "      <th>temp</th>\n",
       "      <th>clouds</th>\n",
       "      <th>pressure</th>\n",
       "      <th>rain</th>\n",
       "      <th>time_stamp</th>\n",
       "      <th>humidity</th>\n",
       "      <th>wind</th>\n",
       "    </tr>\n",
       "    <tr>\n",
       "      <th>location</th>\n",
       "      <th></th>\n",
       "      <th></th>\n",
       "      <th></th>\n",
       "      <th></th>\n",
       "      <th></th>\n",
       "      <th></th>\n",
       "      <th></th>\n",
       "    </tr>\n",
       "  </thead>\n",
       "  <tbody>\n",
       "    <tr>\n",
       "      <th>Back Bay</th>\n",
       "      <td>39.082122</td>\n",
       "      <td>0.678432</td>\n",
       "      <td>1008.447820</td>\n",
       "      <td>0.056012</td>\n",
       "      <td>1.543857e+09</td>\n",
       "      <td>0.764073</td>\n",
       "      <td>6.778528</td>\n",
       "    </tr>\n",
       "    <tr>\n",
       "      <th>Beacon Hill</th>\n",
       "      <td>39.047285</td>\n",
       "      <td>0.677801</td>\n",
       "      <td>1008.448356</td>\n",
       "      <td>0.057097</td>\n",
       "      <td>1.543857e+09</td>\n",
       "      <td>0.765048</td>\n",
       "      <td>6.810325</td>\n",
       "    </tr>\n",
       "    <tr>\n",
       "      <th>Boston University</th>\n",
       "      <td>39.047744</td>\n",
       "      <td>0.679235</td>\n",
       "      <td>1008.459254</td>\n",
       "      <td>0.054688</td>\n",
       "      <td>1.543857e+09</td>\n",
       "      <td>0.763786</td>\n",
       "      <td>6.692180</td>\n",
       "    </tr>\n",
       "    <tr>\n",
       "      <th>Fenway</th>\n",
       "      <td>38.964379</td>\n",
       "      <td>0.679866</td>\n",
       "      <td>1008.453289</td>\n",
       "      <td>0.054863</td>\n",
       "      <td>1.543857e+09</td>\n",
       "      <td>0.767266</td>\n",
       "      <td>6.711721</td>\n",
       "    </tr>\n",
       "    <tr>\n",
       "      <th>Financial District</th>\n",
       "      <td>39.410822</td>\n",
       "      <td>0.676730</td>\n",
       "      <td>1008.435793</td>\n",
       "      <td>0.061352</td>\n",
       "      <td>1.543857e+09</td>\n",
       "      <td>0.754837</td>\n",
       "      <td>6.860019</td>\n",
       "    </tr>\n",
       "  </tbody>\n",
       "</table>\n",
       "</div>"
      ],
      "text/plain": [
       "                         temp    clouds     pressure      rain    time_stamp  \\\n",
       "location                                                                       \n",
       "Back Bay            39.082122  0.678432  1008.447820  0.056012  1.543857e+09   \n",
       "Beacon Hill         39.047285  0.677801  1008.448356  0.057097  1.543857e+09   \n",
       "Boston University   39.047744  0.679235  1008.459254  0.054688  1.543857e+09   \n",
       "Fenway              38.964379  0.679866  1008.453289  0.054863  1.543857e+09   \n",
       "Financial District  39.410822  0.676730  1008.435793  0.061352  1.543857e+09   \n",
       "\n",
       "                    humidity      wind  \n",
       "location                                \n",
       "Back Bay            0.764073  6.778528  \n",
       "Beacon Hill         0.765048  6.810325  \n",
       "Boston University   0.763786  6.692180  \n",
       "Fenway              0.767266  6.711721  \n",
       "Financial District  0.754837  6.860019  "
      ]
     },
     "execution_count": 436,
     "metadata": {},
     "output_type": "execute_result"
    }
   ],
   "source": [
    "destination_df.head()"
   ]
  },
  {
   "cell_type": "code",
   "execution_count": 437,
   "id": "e7795a1f",
   "metadata": {},
   "outputs": [],
   "source": [
    "destination_df.drop('time_stamp',axis=1,inplace=True)"
   ]
  },
  {
   "cell_type": "code",
   "execution_count": 438,
   "id": "fd6d2344",
   "metadata": {},
   "outputs": [
    {
     "data": {
      "text/html": [
       "<div>\n",
       "<style scoped>\n",
       "    .dataframe tbody tr th:only-of-type {\n",
       "        vertical-align: middle;\n",
       "    }\n",
       "\n",
       "    .dataframe tbody tr th {\n",
       "        vertical-align: top;\n",
       "    }\n",
       "\n",
       "    .dataframe thead th {\n",
       "        text-align: right;\n",
       "    }\n",
       "</style>\n",
       "<table border=\"1\" class=\"dataframe\">\n",
       "  <thead>\n",
       "    <tr style=\"text-align: right;\">\n",
       "      <th></th>\n",
       "      <th>temp</th>\n",
       "      <th>clouds</th>\n",
       "      <th>pressure</th>\n",
       "      <th>rain</th>\n",
       "      <th>humidity</th>\n",
       "      <th>wind</th>\n",
       "    </tr>\n",
       "    <tr>\n",
       "      <th>location</th>\n",
       "      <th></th>\n",
       "      <th></th>\n",
       "      <th></th>\n",
       "      <th></th>\n",
       "      <th></th>\n",
       "      <th></th>\n",
       "    </tr>\n",
       "  </thead>\n",
       "  <tbody>\n",
       "    <tr>\n",
       "      <th>Back Bay</th>\n",
       "      <td>39.082122</td>\n",
       "      <td>0.678432</td>\n",
       "      <td>1008.447820</td>\n",
       "      <td>0.056012</td>\n",
       "      <td>0.764073</td>\n",
       "      <td>6.778528</td>\n",
       "    </tr>\n",
       "    <tr>\n",
       "      <th>Beacon Hill</th>\n",
       "      <td>39.047285</td>\n",
       "      <td>0.677801</td>\n",
       "      <td>1008.448356</td>\n",
       "      <td>0.057097</td>\n",
       "      <td>0.765048</td>\n",
       "      <td>6.810325</td>\n",
       "    </tr>\n",
       "    <tr>\n",
       "      <th>Boston University</th>\n",
       "      <td>39.047744</td>\n",
       "      <td>0.679235</td>\n",
       "      <td>1008.459254</td>\n",
       "      <td>0.054688</td>\n",
       "      <td>0.763786</td>\n",
       "      <td>6.692180</td>\n",
       "    </tr>\n",
       "    <tr>\n",
       "      <th>Fenway</th>\n",
       "      <td>38.964379</td>\n",
       "      <td>0.679866</td>\n",
       "      <td>1008.453289</td>\n",
       "      <td>0.054863</td>\n",
       "      <td>0.767266</td>\n",
       "      <td>6.711721</td>\n",
       "    </tr>\n",
       "    <tr>\n",
       "      <th>Financial District</th>\n",
       "      <td>39.410822</td>\n",
       "      <td>0.676730</td>\n",
       "      <td>1008.435793</td>\n",
       "      <td>0.061352</td>\n",
       "      <td>0.754837</td>\n",
       "      <td>6.860019</td>\n",
       "    </tr>\n",
       "    <tr>\n",
       "      <th>Haymarket Square</th>\n",
       "      <td>39.067897</td>\n",
       "      <td>0.676711</td>\n",
       "      <td>1008.445239</td>\n",
       "      <td>0.059593</td>\n",
       "      <td>0.764837</td>\n",
       "      <td>6.843193</td>\n",
       "    </tr>\n",
       "    <tr>\n",
       "      <th>North End</th>\n",
       "      <td>39.090841</td>\n",
       "      <td>0.676730</td>\n",
       "      <td>1008.441912</td>\n",
       "      <td>0.058712</td>\n",
       "      <td>0.764054</td>\n",
       "      <td>6.853117</td>\n",
       "    </tr>\n",
       "    <tr>\n",
       "      <th>North Station</th>\n",
       "      <td>39.035315</td>\n",
       "      <td>0.676998</td>\n",
       "      <td>1008.442811</td>\n",
       "      <td>0.056542</td>\n",
       "      <td>0.765545</td>\n",
       "      <td>6.835755</td>\n",
       "    </tr>\n",
       "    <tr>\n",
       "      <th>Northeastern University</th>\n",
       "      <td>38.975086</td>\n",
       "      <td>0.678317</td>\n",
       "      <td>1008.444168</td>\n",
       "      <td>0.054197</td>\n",
       "      <td>0.767648</td>\n",
       "      <td>6.749426</td>\n",
       "    </tr>\n",
       "    <tr>\n",
       "      <th>South Station</th>\n",
       "      <td>39.394092</td>\n",
       "      <td>0.677495</td>\n",
       "      <td>1008.438031</td>\n",
       "      <td>0.059537</td>\n",
       "      <td>0.755468</td>\n",
       "      <td>6.848948</td>\n",
       "    </tr>\n",
       "    <tr>\n",
       "      <th>Theatre District</th>\n",
       "      <td>38.986711</td>\n",
       "      <td>0.677763</td>\n",
       "      <td>1008.444742</td>\n",
       "      <td>0.060214</td>\n",
       "      <td>0.767992</td>\n",
       "      <td>6.834302</td>\n",
       "    </tr>\n",
       "    <tr>\n",
       "      <th>West End</th>\n",
       "      <td>38.983403</td>\n",
       "      <td>0.677247</td>\n",
       "      <td>1008.441090</td>\n",
       "      <td>0.058803</td>\n",
       "      <td>0.767266</td>\n",
       "      <td>6.816233</td>\n",
       "    </tr>\n",
       "  </tbody>\n",
       "</table>\n",
       "</div>"
      ],
      "text/plain": [
       "                              temp    clouds     pressure      rain  humidity  \\\n",
       "location                                                                        \n",
       "Back Bay                 39.082122  0.678432  1008.447820  0.056012  0.764073   \n",
       "Beacon Hill              39.047285  0.677801  1008.448356  0.057097  0.765048   \n",
       "Boston University        39.047744  0.679235  1008.459254  0.054688  0.763786   \n",
       "Fenway                   38.964379  0.679866  1008.453289  0.054863  0.767266   \n",
       "Financial District       39.410822  0.676730  1008.435793  0.061352  0.754837   \n",
       "Haymarket Square         39.067897  0.676711  1008.445239  0.059593  0.764837   \n",
       "North End                39.090841  0.676730  1008.441912  0.058712  0.764054   \n",
       "North Station            39.035315  0.676998  1008.442811  0.056542  0.765545   \n",
       "Northeastern University  38.975086  0.678317  1008.444168  0.054197  0.767648   \n",
       "South Station            39.394092  0.677495  1008.438031  0.059537  0.755468   \n",
       "Theatre District         38.986711  0.677763  1008.444742  0.060214  0.767992   \n",
       "West End                 38.983403  0.677247  1008.441090  0.058803  0.767266   \n",
       "\n",
       "                             wind  \n",
       "location                           \n",
       "Back Bay                 6.778528  \n",
       "Beacon Hill              6.810325  \n",
       "Boston University        6.692180  \n",
       "Fenway                   6.711721  \n",
       "Financial District       6.860019  \n",
       "Haymarket Square         6.843193  \n",
       "North End                6.853117  \n",
       "North Station            6.835755  \n",
       "Northeastern University  6.749426  \n",
       "South Station            6.848948  \n",
       "Theatre District         6.834302  \n",
       "West End                 6.816233  "
      ]
     },
     "execution_count": 438,
     "metadata": {},
     "output_type": "execute_result"
    }
   ],
   "source": [
    "destination_df"
   ]
  },
  {
   "cell_type": "code",
   "execution_count": 439,
   "id": "e54eb11a",
   "metadata": {},
   "outputs": [],
   "source": [
    "destination_df.reset_index(inplace=True)"
   ]
  },
  {
   "cell_type": "code",
   "execution_count": 440,
   "id": "beac69d2",
   "metadata": {},
   "outputs": [
    {
     "data": {
      "text/html": [
       "<div>\n",
       "<style scoped>\n",
       "    .dataframe tbody tr th:only-of-type {\n",
       "        vertical-align: middle;\n",
       "    }\n",
       "\n",
       "    .dataframe tbody tr th {\n",
       "        vertical-align: top;\n",
       "    }\n",
       "\n",
       "    .dataframe thead th {\n",
       "        text-align: right;\n",
       "    }\n",
       "</style>\n",
       "<table border=\"1\" class=\"dataframe\">\n",
       "  <thead>\n",
       "    <tr style=\"text-align: right;\">\n",
       "      <th></th>\n",
       "      <th>location</th>\n",
       "      <th>temp</th>\n",
       "      <th>clouds</th>\n",
       "      <th>pressure</th>\n",
       "      <th>rain</th>\n",
       "      <th>humidity</th>\n",
       "      <th>wind</th>\n",
       "    </tr>\n",
       "  </thead>\n",
       "  <tbody>\n",
       "    <tr>\n",
       "      <th>0</th>\n",
       "      <td>Back Bay</td>\n",
       "      <td>39.082122</td>\n",
       "      <td>0.678432</td>\n",
       "      <td>1008.447820</td>\n",
       "      <td>0.056012</td>\n",
       "      <td>0.764073</td>\n",
       "      <td>6.778528</td>\n",
       "    </tr>\n",
       "    <tr>\n",
       "      <th>1</th>\n",
       "      <td>Beacon Hill</td>\n",
       "      <td>39.047285</td>\n",
       "      <td>0.677801</td>\n",
       "      <td>1008.448356</td>\n",
       "      <td>0.057097</td>\n",
       "      <td>0.765048</td>\n",
       "      <td>6.810325</td>\n",
       "    </tr>\n",
       "    <tr>\n",
       "      <th>2</th>\n",
       "      <td>Boston University</td>\n",
       "      <td>39.047744</td>\n",
       "      <td>0.679235</td>\n",
       "      <td>1008.459254</td>\n",
       "      <td>0.054688</td>\n",
       "      <td>0.763786</td>\n",
       "      <td>6.692180</td>\n",
       "    </tr>\n",
       "    <tr>\n",
       "      <th>3</th>\n",
       "      <td>Fenway</td>\n",
       "      <td>38.964379</td>\n",
       "      <td>0.679866</td>\n",
       "      <td>1008.453289</td>\n",
       "      <td>0.054863</td>\n",
       "      <td>0.767266</td>\n",
       "      <td>6.711721</td>\n",
       "    </tr>\n",
       "    <tr>\n",
       "      <th>4</th>\n",
       "      <td>Financial District</td>\n",
       "      <td>39.410822</td>\n",
       "      <td>0.676730</td>\n",
       "      <td>1008.435793</td>\n",
       "      <td>0.061352</td>\n",
       "      <td>0.754837</td>\n",
       "      <td>6.860019</td>\n",
       "    </tr>\n",
       "  </tbody>\n",
       "</table>\n",
       "</div>"
      ],
      "text/plain": [
       "             location       temp    clouds     pressure      rain  humidity  \\\n",
       "0            Back Bay  39.082122  0.678432  1008.447820  0.056012  0.764073   \n",
       "1         Beacon Hill  39.047285  0.677801  1008.448356  0.057097  0.765048   \n",
       "2   Boston University  39.047744  0.679235  1008.459254  0.054688  0.763786   \n",
       "3              Fenway  38.964379  0.679866  1008.453289  0.054863  0.767266   \n",
       "4  Financial District  39.410822  0.676730  1008.435793  0.061352  0.754837   \n",
       "\n",
       "       wind  \n",
       "0  6.778528  \n",
       "1  6.810325  \n",
       "2  6.692180  \n",
       "3  6.711721  \n",
       "4  6.860019  "
      ]
     },
     "execution_count": 440,
     "metadata": {},
     "output_type": "execute_result"
    }
   ],
   "source": [
    "destination_df.head()"
   ]
  },
  {
   "cell_type": "code",
   "execution_count": null,
   "id": "2172eefa",
   "metadata": {},
   "outputs": [],
   "source": []
  },
  {
   "cell_type": "code",
   "execution_count": null,
   "id": "9f56966b",
   "metadata": {},
   "outputs": [],
   "source": []
  },
  {
   "cell_type": "code",
   "execution_count": 441,
   "id": "3495fbeb",
   "metadata": {},
   "outputs": [],
   "source": [
    "destination_df.columns=['destination','destination_temp','destination_clouds','destination_pressure','destination_rain','destination_humidity','destination_wind']"
   ]
  },
  {
   "cell_type": "code",
   "execution_count": 442,
   "id": "8dbd3dbc",
   "metadata": {},
   "outputs": [
    {
     "data": {
      "text/html": [
       "<div>\n",
       "<style scoped>\n",
       "    .dataframe tbody tr th:only-of-type {\n",
       "        vertical-align: middle;\n",
       "    }\n",
       "\n",
       "    .dataframe tbody tr th {\n",
       "        vertical-align: top;\n",
       "    }\n",
       "\n",
       "    .dataframe thead th {\n",
       "        text-align: right;\n",
       "    }\n",
       "</style>\n",
       "<table border=\"1\" class=\"dataframe\">\n",
       "  <thead>\n",
       "    <tr style=\"text-align: right;\">\n",
       "      <th></th>\n",
       "      <th>destination</th>\n",
       "      <th>destination_temp</th>\n",
       "      <th>destination_clouds</th>\n",
       "      <th>destination_pressure</th>\n",
       "      <th>destination_rain</th>\n",
       "      <th>destination_humidity</th>\n",
       "      <th>destination_wind</th>\n",
       "    </tr>\n",
       "  </thead>\n",
       "  <tbody>\n",
       "    <tr>\n",
       "      <th>0</th>\n",
       "      <td>Back Bay</td>\n",
       "      <td>39.082122</td>\n",
       "      <td>0.678432</td>\n",
       "      <td>1008.447820</td>\n",
       "      <td>0.056012</td>\n",
       "      <td>0.764073</td>\n",
       "      <td>6.778528</td>\n",
       "    </tr>\n",
       "    <tr>\n",
       "      <th>1</th>\n",
       "      <td>Beacon Hill</td>\n",
       "      <td>39.047285</td>\n",
       "      <td>0.677801</td>\n",
       "      <td>1008.448356</td>\n",
       "      <td>0.057097</td>\n",
       "      <td>0.765048</td>\n",
       "      <td>6.810325</td>\n",
       "    </tr>\n",
       "    <tr>\n",
       "      <th>2</th>\n",
       "      <td>Boston University</td>\n",
       "      <td>39.047744</td>\n",
       "      <td>0.679235</td>\n",
       "      <td>1008.459254</td>\n",
       "      <td>0.054688</td>\n",
       "      <td>0.763786</td>\n",
       "      <td>6.692180</td>\n",
       "    </tr>\n",
       "    <tr>\n",
       "      <th>3</th>\n",
       "      <td>Fenway</td>\n",
       "      <td>38.964379</td>\n",
       "      <td>0.679866</td>\n",
       "      <td>1008.453289</td>\n",
       "      <td>0.054863</td>\n",
       "      <td>0.767266</td>\n",
       "      <td>6.711721</td>\n",
       "    </tr>\n",
       "    <tr>\n",
       "      <th>4</th>\n",
       "      <td>Financial District</td>\n",
       "      <td>39.410822</td>\n",
       "      <td>0.676730</td>\n",
       "      <td>1008.435793</td>\n",
       "      <td>0.061352</td>\n",
       "      <td>0.754837</td>\n",
       "      <td>6.860019</td>\n",
       "    </tr>\n",
       "  </tbody>\n",
       "</table>\n",
       "</div>"
      ],
      "text/plain": [
       "          destination  destination_temp  destination_clouds  \\\n",
       "0            Back Bay         39.082122            0.678432   \n",
       "1         Beacon Hill         39.047285            0.677801   \n",
       "2   Boston University         39.047744            0.679235   \n",
       "3              Fenway         38.964379            0.679866   \n",
       "4  Financial District         39.410822            0.676730   \n",
       "\n",
       "   destination_pressure  destination_rain  destination_humidity  \\\n",
       "0           1008.447820          0.056012              0.764073   \n",
       "1           1008.448356          0.057097              0.765048   \n",
       "2           1008.459254          0.054688              0.763786   \n",
       "3           1008.453289          0.054863              0.767266   \n",
       "4           1008.435793          0.061352              0.754837   \n",
       "\n",
       "   destination_wind  \n",
       "0          6.778528  \n",
       "1          6.810325  \n",
       "2          6.692180  \n",
       "3          6.711721  \n",
       "4          6.860019  "
      ]
     },
     "execution_count": 442,
     "metadata": {},
     "output_type": "execute_result"
    }
   ],
   "source": [
    "destination_df.head()\n"
   ]
  },
  {
   "cell_type": "code",
   "execution_count": 443,
   "id": "5118b82c",
   "metadata": {},
   "outputs": [
    {
     "data": {
      "text/html": [
       "<div>\n",
       "<style scoped>\n",
       "    .dataframe tbody tr th:only-of-type {\n",
       "        vertical-align: middle;\n",
       "    }\n",
       "\n",
       "    .dataframe tbody tr th {\n",
       "        vertical-align: top;\n",
       "    }\n",
       "\n",
       "    .dataframe thead th {\n",
       "        text-align: right;\n",
       "    }\n",
       "</style>\n",
       "<table border=\"1\" class=\"dataframe\">\n",
       "  <thead>\n",
       "    <tr style=\"text-align: right;\">\n",
       "      <th></th>\n",
       "      <th>source</th>\n",
       "      <th>source_temp</th>\n",
       "      <th>source_clouds</th>\n",
       "      <th>source_pressure</th>\n",
       "      <th>source_rain</th>\n",
       "      <th>source_humidity</th>\n",
       "      <th>source_wind</th>\n",
       "    </tr>\n",
       "  </thead>\n",
       "  <tbody>\n",
       "    <tr>\n",
       "      <th>0</th>\n",
       "      <td>Back Bay</td>\n",
       "      <td>39.082122</td>\n",
       "      <td>0.678432</td>\n",
       "      <td>1008.447820</td>\n",
       "      <td>0.056012</td>\n",
       "      <td>0.764073</td>\n",
       "      <td>6.778528</td>\n",
       "    </tr>\n",
       "    <tr>\n",
       "      <th>1</th>\n",
       "      <td>Beacon Hill</td>\n",
       "      <td>39.047285</td>\n",
       "      <td>0.677801</td>\n",
       "      <td>1008.448356</td>\n",
       "      <td>0.057097</td>\n",
       "      <td>0.765048</td>\n",
       "      <td>6.810325</td>\n",
       "    </tr>\n",
       "    <tr>\n",
       "      <th>2</th>\n",
       "      <td>Boston University</td>\n",
       "      <td>39.047744</td>\n",
       "      <td>0.679235</td>\n",
       "      <td>1008.459254</td>\n",
       "      <td>0.054688</td>\n",
       "      <td>0.763786</td>\n",
       "      <td>6.692180</td>\n",
       "    </tr>\n",
       "    <tr>\n",
       "      <th>3</th>\n",
       "      <td>Fenway</td>\n",
       "      <td>38.964379</td>\n",
       "      <td>0.679866</td>\n",
       "      <td>1008.453289</td>\n",
       "      <td>0.054863</td>\n",
       "      <td>0.767266</td>\n",
       "      <td>6.711721</td>\n",
       "    </tr>\n",
       "    <tr>\n",
       "      <th>4</th>\n",
       "      <td>Financial District</td>\n",
       "      <td>39.410822</td>\n",
       "      <td>0.676730</td>\n",
       "      <td>1008.435793</td>\n",
       "      <td>0.061352</td>\n",
       "      <td>0.754837</td>\n",
       "      <td>6.860019</td>\n",
       "    </tr>\n",
       "  </tbody>\n",
       "</table>\n",
       "</div>"
      ],
      "text/plain": [
       "               source  source_temp  source_clouds  source_pressure  \\\n",
       "0            Back Bay    39.082122       0.678432      1008.447820   \n",
       "1         Beacon Hill    39.047285       0.677801      1008.448356   \n",
       "2   Boston University    39.047744       0.679235      1008.459254   \n",
       "3              Fenway    38.964379       0.679866      1008.453289   \n",
       "4  Financial District    39.410822       0.676730      1008.435793   \n",
       "\n",
       "   source_rain  source_humidity  source_wind  \n",
       "0     0.056012         0.764073     6.778528  \n",
       "1     0.057097         0.765048     6.810325  \n",
       "2     0.054688         0.763786     6.692180  \n",
       "3     0.054863         0.767266     6.711721  \n",
       "4     0.061352         0.754837     6.860019  "
      ]
     },
     "execution_count": 443,
     "metadata": {},
     "output_type": "execute_result"
    }
   ],
   "source": [
    "source_df.head()"
   ]
  },
  {
   "cell_type": "code",
   "execution_count": 444,
   "id": "443412b5",
   "metadata": {},
   "outputs": [
    {
     "data": {
      "text/html": [
       "<div>\n",
       "<style scoped>\n",
       "    .dataframe tbody tr th:only-of-type {\n",
       "        vertical-align: middle;\n",
       "    }\n",
       "\n",
       "    .dataframe tbody tr th {\n",
       "        vertical-align: top;\n",
       "    }\n",
       "\n",
       "    .dataframe thead th {\n",
       "        text-align: right;\n",
       "    }\n",
       "</style>\n",
       "<table border=\"1\" class=\"dataframe\">\n",
       "  <thead>\n",
       "    <tr style=\"text-align: right;\">\n",
       "      <th></th>\n",
       "      <th>distance</th>\n",
       "      <th>cab_type</th>\n",
       "      <th>time_stamp</th>\n",
       "      <th>destination</th>\n",
       "      <th>source</th>\n",
       "      <th>price</th>\n",
       "      <th>surge_multiplier</th>\n",
       "      <th>id</th>\n",
       "      <th>product_id</th>\n",
       "      <th>name</th>\n",
       "    </tr>\n",
       "  </thead>\n",
       "  <tbody>\n",
       "    <tr>\n",
       "      <th>0</th>\n",
       "      <td>0.44</td>\n",
       "      <td>Lyft</td>\n",
       "      <td>1544952607890</td>\n",
       "      <td>North Station</td>\n",
       "      <td>Haymarket Square</td>\n",
       "      <td>5.0</td>\n",
       "      <td>1.0</td>\n",
       "      <td>424553bb-7174-41ea-aeb4-fe06d4f4b9d7</td>\n",
       "      <td>lyft_line</td>\n",
       "      <td>Shared</td>\n",
       "    </tr>\n",
       "    <tr>\n",
       "      <th>1</th>\n",
       "      <td>0.44</td>\n",
       "      <td>Lyft</td>\n",
       "      <td>1543284023677</td>\n",
       "      <td>North Station</td>\n",
       "      <td>Haymarket Square</td>\n",
       "      <td>11.0</td>\n",
       "      <td>1.0</td>\n",
       "      <td>4bd23055-6827-41c6-b23b-3c491f24e74d</td>\n",
       "      <td>lyft_premier</td>\n",
       "      <td>Lux</td>\n",
       "    </tr>\n",
       "    <tr>\n",
       "      <th>2</th>\n",
       "      <td>0.44</td>\n",
       "      <td>Lyft</td>\n",
       "      <td>1543366822198</td>\n",
       "      <td>North Station</td>\n",
       "      <td>Haymarket Square</td>\n",
       "      <td>7.0</td>\n",
       "      <td>1.0</td>\n",
       "      <td>981a3613-77af-4620-a42a-0c0866077d1e</td>\n",
       "      <td>lyft</td>\n",
       "      <td>Lyft</td>\n",
       "    </tr>\n",
       "    <tr>\n",
       "      <th>3</th>\n",
       "      <td>0.44</td>\n",
       "      <td>Lyft</td>\n",
       "      <td>1543553582749</td>\n",
       "      <td>North Station</td>\n",
       "      <td>Haymarket Square</td>\n",
       "      <td>26.0</td>\n",
       "      <td>1.0</td>\n",
       "      <td>c2d88af2-d278-4bfd-a8d0-29ca77cc5512</td>\n",
       "      <td>lyft_luxsuv</td>\n",
       "      <td>Lux Black XL</td>\n",
       "    </tr>\n",
       "    <tr>\n",
       "      <th>4</th>\n",
       "      <td>0.44</td>\n",
       "      <td>Lyft</td>\n",
       "      <td>1543463360223</td>\n",
       "      <td>North Station</td>\n",
       "      <td>Haymarket Square</td>\n",
       "      <td>9.0</td>\n",
       "      <td>1.0</td>\n",
       "      <td>e0126e1f-8ca9-4f2e-82b3-50505a09db9a</td>\n",
       "      <td>lyft_plus</td>\n",
       "      <td>Lyft XL</td>\n",
       "    </tr>\n",
       "  </tbody>\n",
       "</table>\n",
       "</div>"
      ],
      "text/plain": [
       "   distance cab_type     time_stamp    destination            source  price  \\\n",
       "0      0.44     Lyft  1544952607890  North Station  Haymarket Square    5.0   \n",
       "1      0.44     Lyft  1543284023677  North Station  Haymarket Square   11.0   \n",
       "2      0.44     Lyft  1543366822198  North Station  Haymarket Square    7.0   \n",
       "3      0.44     Lyft  1543553582749  North Station  Haymarket Square   26.0   \n",
       "4      0.44     Lyft  1543463360223  North Station  Haymarket Square    9.0   \n",
       "\n",
       "   surge_multiplier                                    id    product_id  \\\n",
       "0               1.0  424553bb-7174-41ea-aeb4-fe06d4f4b9d7     lyft_line   \n",
       "1               1.0  4bd23055-6827-41c6-b23b-3c491f24e74d  lyft_premier   \n",
       "2               1.0  981a3613-77af-4620-a42a-0c0866077d1e          lyft   \n",
       "3               1.0  c2d88af2-d278-4bfd-a8d0-29ca77cc5512   lyft_luxsuv   \n",
       "4               1.0  e0126e1f-8ca9-4f2e-82b3-50505a09db9a     lyft_plus   \n",
       "\n",
       "           name  \n",
       "0        Shared  \n",
       "1           Lux  \n",
       "2          Lyft  \n",
       "3  Lux Black XL  \n",
       "4       Lyft XL  "
      ]
     },
     "execution_count": 444,
     "metadata": {},
     "output_type": "execute_result"
    }
   ],
   "source": [
    "df_ride.head()"
   ]
  },
  {
   "cell_type": "code",
   "execution_count": 445,
   "id": "4b8f57fe",
   "metadata": {},
   "outputs": [],
   "source": [
    "df_ride=pd.merge(df_ride,source_df,on=['source'])"
   ]
  },
  {
   "cell_type": "code",
   "execution_count": 446,
   "id": "db13b194",
   "metadata": {},
   "outputs": [],
   "source": [
    "df=pd.merge(df_ride,destination_df,on=['destination'])"
   ]
  },
  {
   "cell_type": "code",
   "execution_count": 447,
   "id": "e1caff21",
   "metadata": {},
   "outputs": [
    {
     "data": {
      "text/html": [
       "<div>\n",
       "<style scoped>\n",
       "    .dataframe tbody tr th:only-of-type {\n",
       "        vertical-align: middle;\n",
       "    }\n",
       "\n",
       "    .dataframe tbody tr th {\n",
       "        vertical-align: top;\n",
       "    }\n",
       "\n",
       "    .dataframe thead th {\n",
       "        text-align: right;\n",
       "    }\n",
       "</style>\n",
       "<table border=\"1\" class=\"dataframe\">\n",
       "  <thead>\n",
       "    <tr style=\"text-align: right;\">\n",
       "      <th></th>\n",
       "      <th>distance</th>\n",
       "      <th>cab_type</th>\n",
       "      <th>time_stamp</th>\n",
       "      <th>destination</th>\n",
       "      <th>source</th>\n",
       "      <th>price</th>\n",
       "      <th>surge_multiplier</th>\n",
       "      <th>id</th>\n",
       "      <th>product_id</th>\n",
       "      <th>name</th>\n",
       "      <th>...</th>\n",
       "      <th>source_pressure</th>\n",
       "      <th>source_rain</th>\n",
       "      <th>source_humidity</th>\n",
       "      <th>source_wind</th>\n",
       "      <th>destination_temp</th>\n",
       "      <th>destination_clouds</th>\n",
       "      <th>destination_pressure</th>\n",
       "      <th>destination_rain</th>\n",
       "      <th>destination_humidity</th>\n",
       "      <th>destination_wind</th>\n",
       "    </tr>\n",
       "  </thead>\n",
       "  <tbody>\n",
       "    <tr>\n",
       "      <th>0</th>\n",
       "      <td>0.44</td>\n",
       "      <td>Lyft</td>\n",
       "      <td>1544952607890</td>\n",
       "      <td>North Station</td>\n",
       "      <td>Haymarket Square</td>\n",
       "      <td>5.0</td>\n",
       "      <td>1.0</td>\n",
       "      <td>424553bb-7174-41ea-aeb4-fe06d4f4b9d7</td>\n",
       "      <td>lyft_line</td>\n",
       "      <td>Shared</td>\n",
       "      <td>...</td>\n",
       "      <td>1008.445239</td>\n",
       "      <td>0.059593</td>\n",
       "      <td>0.764837</td>\n",
       "      <td>6.843193</td>\n",
       "      <td>39.035315</td>\n",
       "      <td>0.676998</td>\n",
       "      <td>1008.442811</td>\n",
       "      <td>0.056542</td>\n",
       "      <td>0.765545</td>\n",
       "      <td>6.835755</td>\n",
       "    </tr>\n",
       "    <tr>\n",
       "      <th>1</th>\n",
       "      <td>0.44</td>\n",
       "      <td>Lyft</td>\n",
       "      <td>1543284023677</td>\n",
       "      <td>North Station</td>\n",
       "      <td>Haymarket Square</td>\n",
       "      <td>11.0</td>\n",
       "      <td>1.0</td>\n",
       "      <td>4bd23055-6827-41c6-b23b-3c491f24e74d</td>\n",
       "      <td>lyft_premier</td>\n",
       "      <td>Lux</td>\n",
       "      <td>...</td>\n",
       "      <td>1008.445239</td>\n",
       "      <td>0.059593</td>\n",
       "      <td>0.764837</td>\n",
       "      <td>6.843193</td>\n",
       "      <td>39.035315</td>\n",
       "      <td>0.676998</td>\n",
       "      <td>1008.442811</td>\n",
       "      <td>0.056542</td>\n",
       "      <td>0.765545</td>\n",
       "      <td>6.835755</td>\n",
       "    </tr>\n",
       "    <tr>\n",
       "      <th>2</th>\n",
       "      <td>0.44</td>\n",
       "      <td>Lyft</td>\n",
       "      <td>1543366822198</td>\n",
       "      <td>North Station</td>\n",
       "      <td>Haymarket Square</td>\n",
       "      <td>7.0</td>\n",
       "      <td>1.0</td>\n",
       "      <td>981a3613-77af-4620-a42a-0c0866077d1e</td>\n",
       "      <td>lyft</td>\n",
       "      <td>Lyft</td>\n",
       "      <td>...</td>\n",
       "      <td>1008.445239</td>\n",
       "      <td>0.059593</td>\n",
       "      <td>0.764837</td>\n",
       "      <td>6.843193</td>\n",
       "      <td>39.035315</td>\n",
       "      <td>0.676998</td>\n",
       "      <td>1008.442811</td>\n",
       "      <td>0.056542</td>\n",
       "      <td>0.765545</td>\n",
       "      <td>6.835755</td>\n",
       "    </tr>\n",
       "    <tr>\n",
       "      <th>3</th>\n",
       "      <td>0.44</td>\n",
       "      <td>Lyft</td>\n",
       "      <td>1543553582749</td>\n",
       "      <td>North Station</td>\n",
       "      <td>Haymarket Square</td>\n",
       "      <td>26.0</td>\n",
       "      <td>1.0</td>\n",
       "      <td>c2d88af2-d278-4bfd-a8d0-29ca77cc5512</td>\n",
       "      <td>lyft_luxsuv</td>\n",
       "      <td>Lux Black XL</td>\n",
       "      <td>...</td>\n",
       "      <td>1008.445239</td>\n",
       "      <td>0.059593</td>\n",
       "      <td>0.764837</td>\n",
       "      <td>6.843193</td>\n",
       "      <td>39.035315</td>\n",
       "      <td>0.676998</td>\n",
       "      <td>1008.442811</td>\n",
       "      <td>0.056542</td>\n",
       "      <td>0.765545</td>\n",
       "      <td>6.835755</td>\n",
       "    </tr>\n",
       "    <tr>\n",
       "      <th>4</th>\n",
       "      <td>0.44</td>\n",
       "      <td>Lyft</td>\n",
       "      <td>1543463360223</td>\n",
       "      <td>North Station</td>\n",
       "      <td>Haymarket Square</td>\n",
       "      <td>9.0</td>\n",
       "      <td>1.0</td>\n",
       "      <td>e0126e1f-8ca9-4f2e-82b3-50505a09db9a</td>\n",
       "      <td>lyft_plus</td>\n",
       "      <td>Lyft XL</td>\n",
       "      <td>...</td>\n",
       "      <td>1008.445239</td>\n",
       "      <td>0.059593</td>\n",
       "      <td>0.764837</td>\n",
       "      <td>6.843193</td>\n",
       "      <td>39.035315</td>\n",
       "      <td>0.676998</td>\n",
       "      <td>1008.442811</td>\n",
       "      <td>0.056542</td>\n",
       "      <td>0.765545</td>\n",
       "      <td>6.835755</td>\n",
       "    </tr>\n",
       "  </tbody>\n",
       "</table>\n",
       "<p>5 rows × 22 columns</p>\n",
       "</div>"
      ],
      "text/plain": [
       "   distance cab_type     time_stamp    destination            source  price  \\\n",
       "0      0.44     Lyft  1544952607890  North Station  Haymarket Square    5.0   \n",
       "1      0.44     Lyft  1543284023677  North Station  Haymarket Square   11.0   \n",
       "2      0.44     Lyft  1543366822198  North Station  Haymarket Square    7.0   \n",
       "3      0.44     Lyft  1543553582749  North Station  Haymarket Square   26.0   \n",
       "4      0.44     Lyft  1543463360223  North Station  Haymarket Square    9.0   \n",
       "\n",
       "   surge_multiplier                                    id    product_id  \\\n",
       "0               1.0  424553bb-7174-41ea-aeb4-fe06d4f4b9d7     lyft_line   \n",
       "1               1.0  4bd23055-6827-41c6-b23b-3c491f24e74d  lyft_premier   \n",
       "2               1.0  981a3613-77af-4620-a42a-0c0866077d1e          lyft   \n",
       "3               1.0  c2d88af2-d278-4bfd-a8d0-29ca77cc5512   lyft_luxsuv   \n",
       "4               1.0  e0126e1f-8ca9-4f2e-82b3-50505a09db9a     lyft_plus   \n",
       "\n",
       "           name  ...  source_pressure  source_rain  source_humidity  \\\n",
       "0        Shared  ...      1008.445239     0.059593         0.764837   \n",
       "1           Lux  ...      1008.445239     0.059593         0.764837   \n",
       "2          Lyft  ...      1008.445239     0.059593         0.764837   \n",
       "3  Lux Black XL  ...      1008.445239     0.059593         0.764837   \n",
       "4       Lyft XL  ...      1008.445239     0.059593         0.764837   \n",
       "\n",
       "   source_wind  destination_temp  destination_clouds  destination_pressure  \\\n",
       "0     6.843193         39.035315            0.676998           1008.442811   \n",
       "1     6.843193         39.035315            0.676998           1008.442811   \n",
       "2     6.843193         39.035315            0.676998           1008.442811   \n",
       "3     6.843193         39.035315            0.676998           1008.442811   \n",
       "4     6.843193         39.035315            0.676998           1008.442811   \n",
       "\n",
       "   destination_rain  destination_humidity  destination_wind  \n",
       "0          0.056542              0.765545          6.835755  \n",
       "1          0.056542              0.765545          6.835755  \n",
       "2          0.056542              0.765545          6.835755  \n",
       "3          0.056542              0.765545          6.835755  \n",
       "4          0.056542              0.765545          6.835755  \n",
       "\n",
       "[5 rows x 22 columns]"
      ]
     },
     "execution_count": 447,
     "metadata": {},
     "output_type": "execute_result"
    }
   ],
   "source": [
    "df.head()"
   ]
  },
  {
   "cell_type": "code",
   "execution_count": 448,
   "id": "d05ec910",
   "metadata": {},
   "outputs": [
    {
     "data": {
      "text/plain": [
       "(693071, 22)"
      ]
     },
     "execution_count": 448,
     "metadata": {},
     "output_type": "execute_result"
    }
   ],
   "source": [
    "df.shape"
   ]
  },
  {
   "cell_type": "code",
   "execution_count": 449,
   "id": "99ef1575",
   "metadata": {
    "scrolled": true
   },
   "outputs": [
    {
     "data": {
      "text/plain": [
       "<AxesSubplot:>"
      ]
     },
     "execution_count": 449,
     "metadata": {},
     "output_type": "execute_result"
    },
    {
     "data": {
      "image/png": "[encoded data removed]",
      "text/plain": [
       "<Figure size 1130.4x720 with 2 Axes>"
      ]
     },
     "metadata": {},
     "output_type": "display_data"
    }
   ],
   "source": [
    "sns.set(rc={'figure.figsize':(15.7,10)})\n",
    "sns.heatmap(df.corr(), cmap=\"YlGnBu\", annot=True,)"
   ]
  },
  {
   "cell_type": "code",
   "execution_count": 450,
   "id": "d64aab4d",
   "metadata": {},
   "outputs": [
    {
     "data": {
      "text/plain": [
       "distance                0.345061\n",
       "time_stamp              0.000808\n",
       "price                   1.000000\n",
       "surge_multiplier        0.240458\n",
       "source_temp            -0.003520\n",
       "source_clouds           0.100980\n",
       "source_pressure         0.056591\n",
       "source_rain            -0.071050\n",
       "source_humidity        -0.005086\n",
       "source_wind            -0.103597\n",
       "destination_temp       -0.020672\n",
       "destination_clouds      0.093229\n",
       "destination_pressure    0.068675\n",
       "destination_rain       -0.082137\n",
       "destination_humidity    0.010101\n",
       "destination_wind       -0.106059\n",
       "Name: price, dtype: float64"
      ]
     },
     "execution_count": 450,
     "metadata": {},
     "output_type": "execute_result"
    }
   ],
   "source": [
    "df.corr().iloc[2]"
   ]
  },
  {
   "cell_type": "code",
   "execution_count": 452,
   "id": "88426c6c",
   "metadata": {},
   "outputs": [
    {
     "data": {
      "text/plain": [
       "['cab_type', 'destination', 'source', 'id', 'product_id', 'name']"
      ]
     },
     "execution_count": 452,
     "metadata": {},
     "output_type": "execute_result"
    }
   ],
   "source": [
    "[column for column in df.columns if df[column].dtypes=='O']"
   ]
  },
  {
   "cell_type": "code",
   "execution_count": 453,
   "id": "41514ec8",
   "metadata": {},
   "outputs": [
    {
     "data": {
      "text/plain": [
       "Uber    385663\n",
       "Lyft    307408\n",
       "Name: cab_type, dtype: int64"
      ]
     },
     "execution_count": 453,
     "metadata": {},
     "output_type": "execute_result"
    }
   ],
   "source": [
    "df['cab_type'].value_counts()"
   ]
  },
  {
   "cell_type": "code",
   "execution_count": 454,
   "id": "ea04d50f",
   "metadata": {},
   "outputs": [],
   "source": [
    "df['cab_type']=pd.get_dummies(df['cab_type'],drop_first=True)"
   ]
  },
  {
   "cell_type": "code",
   "execution_count": 456,
   "id": "14c9e823",
   "metadata": {},
   "outputs": [],
   "source": [
    "def one_hot(data,column,prefix):\n",
    "    return pd.get_dummies(data[column],drop_first=True,prefix=prefix)"
   ]
  },
  {
   "cell_type": "code",
   "execution_count": 457,
   "id": "3264fc69",
   "metadata": {},
   "outputs": [],
   "source": [
    "destination=one_hot(df,'destination','dest')\n",
    "source=one_hot(df,'source','sour')\n",
    "name=one_hot(df,'name','name')"
   ]
  },
  {
   "cell_type": "code",
   "execution_count": 458,
   "id": "f53abf9c",
   "metadata": {},
   "outputs": [],
   "source": [
    "df.drop(['id','product_id'],inplace=True,axis=1)"
   ]
  },
  {
   "cell_type": "code",
   "execution_count": 459,
   "id": "671e60cb",
   "metadata": {},
   "outputs": [],
   "source": [
    "df=pd.concat([df,source,destination,name],axis=1)"
   ]
  },
  {
   "cell_type": "code",
   "execution_count": 460,
   "id": "09e7003e",
   "metadata": {},
   "outputs": [
    {
     "data": {
      "text/plain": [
       "(693071, 54)"
      ]
     },
     "execution_count": 460,
     "metadata": {},
     "output_type": "execute_result"
    }
   ],
   "source": [
    "df.shape"
   ]
  },
  {
   "cell_type": "code",
   "execution_count": 461,
   "id": "c4c82155",
   "metadata": {},
   "outputs": [
    {
     "data": {
      "text/plain": [
       "distance                            0\n",
       "cab_type                            0\n",
       "time_stamp                          0\n",
       "destination                         0\n",
       "source                              0\n",
       "price                           55095\n",
       "surge_multiplier                    0\n",
       "name                                0\n",
       "source_temp                         0\n",
       "source_clouds                       0\n",
       "source_pressure                     0\n",
       "source_rain                         0\n",
       "source_humidity                     0\n",
       "source_wind                         0\n",
       "destination_temp                    0\n",
       "destination_clouds                  0\n",
       "destination_pressure                0\n",
       "destination_rain                    0\n",
       "destination_humidity                0\n",
       "destination_wind                    0\n",
       "sour_Beacon Hill                    0\n",
       "sour_Boston University              0\n",
       "sour_Fenway                         0\n",
       "sour_Financial District             0\n",
       "sour_Haymarket Square               0\n",
       "sour_North End                      0\n",
       "sour_North Station                  0\n",
       "sour_Northeastern University        0\n",
       "sour_South Station                  0\n",
       "sour_Theatre District               0\n",
       "sour_West End                       0\n",
       "dest_Beacon Hill                    0\n",
       "dest_Boston University              0\n",
       "dest_Fenway                         0\n",
       "dest_Financial District             0\n",
       "dest_Haymarket Square               0\n",
       "dest_North End                      0\n",
       "dest_North Station                  0\n",
       "dest_Northeastern University        0\n",
       "dest_South Station                  0\n",
       "dest_Theatre District               0\n",
       "dest_West End                       0\n",
       "name_Black SUV                      0\n",
       "name_Lux                            0\n",
       "name_Lux Black                      0\n",
       "name_Lux Black XL                   0\n",
       "name_Lyft                           0\n",
       "name_Lyft XL                        0\n",
       "name_Shared                         0\n",
       "name_Taxi                           0\n",
       "name_UberPool                       0\n",
       "name_UberX                          0\n",
       "name_UberXL                         0\n",
       "name_WAV                            0\n",
       "dtype: int64"
      ]
     },
     "execution_count": 461,
     "metadata": {},
     "output_type": "execute_result"
    }
   ],
   "source": [
    "df.isnull().sum()"
   ]
  },
  {
   "cell_type": "code",
   "execution_count": 462,
   "id": "8926c9c5",
   "metadata": {},
   "outputs": [],
   "source": [
    "df.dropna(inplace=True)"
   ]
  },
  {
   "cell_type": "code",
   "execution_count": 463,
   "id": "140951c7",
   "metadata": {},
   "outputs": [
    {
     "data": {
      "text/plain": [
       "distance                        0\n",
       "cab_type                        0\n",
       "time_stamp                      0\n",
       "destination                     0\n",
       "source                          0\n",
       "price                           0\n",
       "surge_multiplier                0\n",
       "name                            0\n",
       "source_temp                     0\n",
       "source_clouds                   0\n",
       "source_pressure                 0\n",
       "source_rain                     0\n",
       "source_humidity                 0\n",
       "source_wind                     0\n",
       "destination_temp                0\n",
       "destination_clouds              0\n",
       "destination_pressure            0\n",
       "destination_rain                0\n",
       "destination_humidity            0\n",
       "destination_wind                0\n",
       "sour_Beacon Hill                0\n",
       "sour_Boston University          0\n",
       "sour_Fenway                     0\n",
       "sour_Financial District         0\n",
       "sour_Haymarket Square           0\n",
       "sour_North End                  0\n",
       "sour_North Station              0\n",
       "sour_Northeastern University    0\n",
       "sour_South Station              0\n",
       "sour_Theatre District           0\n",
       "sour_West End                   0\n",
       "dest_Beacon Hill                0\n",
       "dest_Boston University          0\n",
       "dest_Fenway                     0\n",
       "dest_Financial District         0\n",
       "dest_Haymarket Square           0\n",
       "dest_North End                  0\n",
       "dest_North Station              0\n",
       "dest_Northeastern University    0\n",
       "dest_South Station              0\n",
       "dest_Theatre District           0\n",
       "dest_West End                   0\n",
       "name_Black SUV                  0\n",
       "name_Lux                        0\n",
       "name_Lux Black                  0\n",
       "name_Lux Black XL               0\n",
       "name_Lyft                       0\n",
       "name_Lyft XL                    0\n",
       "name_Shared                     0\n",
       "name_Taxi                       0\n",
       "name_UberPool                   0\n",
       "name_UberX                      0\n",
       "name_UberXL                     0\n",
       "name_WAV                        0\n",
       "dtype: int64"
      ]
     },
     "execution_count": 463,
     "metadata": {},
     "output_type": "execute_result"
    }
   ],
   "source": [
    "df.isnull().sum()"
   ]
  },
  {
   "cell_type": "code",
   "execution_count": 464,
   "id": "a769764f",
   "metadata": {},
   "outputs": [
    {
     "ename": "KeyError",
     "evalue": "'[1] not found in axis'",
     "output_type": "error",
     "traceback": [
      "\u001b[1;31m---------------------------------------------------------------------------\u001b[0m",
      "\u001b[1;31mKeyError\u001b[0m                                  Traceback (most recent call last)",
      "\u001b[1;32m<ipython-input-464-19e00bad3786>\u001b[0m in \u001b[0;36m<module>\u001b[1;34m\u001b[0m\n\u001b[1;32m----> 1\u001b[1;33m \u001b[0mdf\u001b[0m\u001b[1;33m.\u001b[0m\u001b[0mdrop\u001b[0m\u001b[1;33m(\u001b[0m\u001b[1;36m1\u001b[0m\u001b[1;33m,\u001b[0m\u001b[0minplace\u001b[0m\u001b[1;33m=\u001b[0m\u001b[1;32mTrue\u001b[0m\u001b[1;33m,\u001b[0m\u001b[0maxis\u001b[0m\u001b[1;33m=\u001b[0m\u001b[1;36m1\u001b[0m\u001b[1;33m)\u001b[0m\u001b[1;33m\u001b[0m\u001b[1;33m\u001b[0m\u001b[0m\n\u001b[0m",
      "\u001b[1;32m~\\anaconda3\\lib\\site-packages\\pandas\\core\\frame.py\u001b[0m in \u001b[0;36mdrop\u001b[1;34m(self, labels, axis, index, columns, level, inplace, errors)\u001b[0m\n\u001b[0;32m   4306\u001b[0m                 \u001b[0mweight\u001b[0m  \u001b[1;36m1.0\u001b[0m     \u001b[1;36m0.8\u001b[0m\u001b[1;33m\u001b[0m\u001b[1;33m\u001b[0m\u001b[0m\n\u001b[0;32m   4307\u001b[0m         \"\"\"\n\u001b[1;32m-> 4308\u001b[1;33m         return super().drop(\n\u001b[0m\u001b[0;32m   4309\u001b[0m             \u001b[0mlabels\u001b[0m\u001b[1;33m=\u001b[0m\u001b[0mlabels\u001b[0m\u001b[1;33m,\u001b[0m\u001b[1;33m\u001b[0m\u001b[1;33m\u001b[0m\u001b[0m\n\u001b[0;32m   4310\u001b[0m             \u001b[0maxis\u001b[0m\u001b[1;33m=\u001b[0m\u001b[0maxis\u001b[0m\u001b[1;33m,\u001b[0m\u001b[1;33m\u001b[0m\u001b[1;33m\u001b[0m\u001b[0m\n",
      "\u001b[1;32m~\\anaconda3\\lib\\site-packages\\pandas\\core\\generic.py\u001b[0m in \u001b[0;36mdrop\u001b[1;34m(self, labels, axis, index, columns, level, inplace, errors)\u001b[0m\n\u001b[0;32m   4151\u001b[0m         \u001b[1;32mfor\u001b[0m \u001b[0maxis\u001b[0m\u001b[1;33m,\u001b[0m \u001b[0mlabels\u001b[0m \u001b[1;32min\u001b[0m \u001b[0maxes\u001b[0m\u001b[1;33m.\u001b[0m\u001b[0mitems\u001b[0m\u001b[1;33m(\u001b[0m\u001b[1;33m)\u001b[0m\u001b[1;33m:\u001b[0m\u001b[1;33m\u001b[0m\u001b[1;33m\u001b[0m\u001b[0m\n\u001b[0;32m   4152\u001b[0m             \u001b[1;32mif\u001b[0m \u001b[0mlabels\u001b[0m \u001b[1;32mis\u001b[0m \u001b[1;32mnot\u001b[0m \u001b[1;32mNone\u001b[0m\u001b[1;33m:\u001b[0m\u001b[1;33m\u001b[0m\u001b[1;33m\u001b[0m\u001b[0m\n\u001b[1;32m-> 4153\u001b[1;33m                 \u001b[0mobj\u001b[0m \u001b[1;33m=\u001b[0m \u001b[0mobj\u001b[0m\u001b[1;33m.\u001b[0m\u001b[0m_drop_axis\u001b[0m\u001b[1;33m(\u001b[0m\u001b[0mlabels\u001b[0m\u001b[1;33m,\u001b[0m \u001b[0maxis\u001b[0m\u001b[1;33m,\u001b[0m \u001b[0mlevel\u001b[0m\u001b[1;33m=\u001b[0m\u001b[0mlevel\u001b[0m\u001b[1;33m,\u001b[0m \u001b[0merrors\u001b[0m\u001b[1;33m=\u001b[0m\u001b[0merrors\u001b[0m\u001b[1;33m)\u001b[0m\u001b[1;33m\u001b[0m\u001b[1;33m\u001b[0m\u001b[0m\n\u001b[0m\u001b[0;32m   4154\u001b[0m \u001b[1;33m\u001b[0m\u001b[0m\n\u001b[0;32m   4155\u001b[0m         \u001b[1;32mif\u001b[0m \u001b[0minplace\u001b[0m\u001b[1;33m:\u001b[0m\u001b[1;33m\u001b[0m\u001b[1;33m\u001b[0m\u001b[0m\n",
      "\u001b[1;32m~\\anaconda3\\lib\\site-packages\\pandas\\core\\generic.py\u001b[0m in \u001b[0;36m_drop_axis\u001b[1;34m(self, labels, axis, level, errors)\u001b[0m\n\u001b[0;32m   4186\u001b[0m                 \u001b[0mnew_axis\u001b[0m \u001b[1;33m=\u001b[0m \u001b[0maxis\u001b[0m\u001b[1;33m.\u001b[0m\u001b[0mdrop\u001b[0m\u001b[1;33m(\u001b[0m\u001b[0mlabels\u001b[0m\u001b[1;33m,\u001b[0m \u001b[0mlevel\u001b[0m\u001b[1;33m=\u001b[0m\u001b[0mlevel\u001b[0m\u001b[1;33m,\u001b[0m \u001b[0merrors\u001b[0m\u001b[1;33m=\u001b[0m\u001b[0merrors\u001b[0m\u001b[1;33m)\u001b[0m\u001b[1;33m\u001b[0m\u001b[1;33m\u001b[0m\u001b[0m\n\u001b[0;32m   4187\u001b[0m             \u001b[1;32melse\u001b[0m\u001b[1;33m:\u001b[0m\u001b[1;33m\u001b[0m\u001b[1;33m\u001b[0m\u001b[0m\n\u001b[1;32m-> 4188\u001b[1;33m                 \u001b[0mnew_axis\u001b[0m \u001b[1;33m=\u001b[0m \u001b[0maxis\u001b[0m\u001b[1;33m.\u001b[0m\u001b[0mdrop\u001b[0m\u001b[1;33m(\u001b[0m\u001b[0mlabels\u001b[0m\u001b[1;33m,\u001b[0m \u001b[0merrors\u001b[0m\u001b[1;33m=\u001b[0m\u001b[0merrors\u001b[0m\u001b[1;33m)\u001b[0m\u001b[1;33m\u001b[0m\u001b[1;33m\u001b[0m\u001b[0m\n\u001b[0m\u001b[0;32m   4189\u001b[0m             \u001b[0mresult\u001b[0m \u001b[1;33m=\u001b[0m \u001b[0mself\u001b[0m\u001b[1;33m.\u001b[0m\u001b[0mreindex\u001b[0m\u001b[1;33m(\u001b[0m\u001b[1;33m**\u001b[0m\u001b[1;33m{\u001b[0m\u001b[0maxis_name\u001b[0m\u001b[1;33m:\u001b[0m \u001b[0mnew_axis\u001b[0m\u001b[1;33m}\u001b[0m\u001b[1;33m)\u001b[0m\u001b[1;33m\u001b[0m\u001b[1;33m\u001b[0m\u001b[0m\n\u001b[0;32m   4190\u001b[0m \u001b[1;33m\u001b[0m\u001b[0m\n",
      "\u001b[1;32m~\\anaconda3\\lib\\site-packages\\pandas\\core\\indexes\\base.py\u001b[0m in \u001b[0;36mdrop\u001b[1;34m(self, labels, errors)\u001b[0m\n\u001b[0;32m   5589\u001b[0m         \u001b[1;32mif\u001b[0m \u001b[0mmask\u001b[0m\u001b[1;33m.\u001b[0m\u001b[0many\u001b[0m\u001b[1;33m(\u001b[0m\u001b[1;33m)\u001b[0m\u001b[1;33m:\u001b[0m\u001b[1;33m\u001b[0m\u001b[1;33m\u001b[0m\u001b[0m\n\u001b[0;32m   5590\u001b[0m             \u001b[1;32mif\u001b[0m \u001b[0merrors\u001b[0m \u001b[1;33m!=\u001b[0m \u001b[1;34m\"ignore\"\u001b[0m\u001b[1;33m:\u001b[0m\u001b[1;33m\u001b[0m\u001b[1;33m\u001b[0m\u001b[0m\n\u001b[1;32m-> 5591\u001b[1;33m                 \u001b[1;32mraise\u001b[0m \u001b[0mKeyError\u001b[0m\u001b[1;33m(\u001b[0m\u001b[1;34mf\"{labels[mask]} not found in axis\"\u001b[0m\u001b[1;33m)\u001b[0m\u001b[1;33m\u001b[0m\u001b[1;33m\u001b[0m\u001b[0m\n\u001b[0m\u001b[0;32m   5592\u001b[0m             \u001b[0mindexer\u001b[0m \u001b[1;33m=\u001b[0m \u001b[0mindexer\u001b[0m\u001b[1;33m[\u001b[0m\u001b[1;33m~\u001b[0m\u001b[0mmask\u001b[0m\u001b[1;33m]\u001b[0m\u001b[1;33m\u001b[0m\u001b[1;33m\u001b[0m\u001b[0m\n\u001b[0;32m   5593\u001b[0m         \u001b[1;32mreturn\u001b[0m \u001b[0mself\u001b[0m\u001b[1;33m.\u001b[0m\u001b[0mdelete\u001b[0m\u001b[1;33m(\u001b[0m\u001b[0mindexer\u001b[0m\u001b[1;33m)\u001b[0m\u001b[1;33m\u001b[0m\u001b[1;33m\u001b[0m\u001b[0m\n",
      "\u001b[1;31mKeyError\u001b[0m: '[1] not found in axis'"
     ]
    }
   ],
   "source": [
    "df.drop(1,inplace=True,axis=1)"
   ]
  },
  {
   "cell_type": "code",
   "execution_count": 465,
   "id": "4239102d",
   "metadata": {},
   "outputs": [],
   "source": [
    "from sklearn.preprocessing import StandardScaler\n",
    "sc=StandardScaler()"
   ]
  },
  {
   "cell_type": "code",
   "execution_count": 481,
   "id": "b9da9443",
   "metadata": {},
   "outputs": [],
   "source": [
    "df.drop(['destination'],inplace=True,axis=1)"
   ]
  },
  {
   "cell_type": "code",
   "execution_count": null,
   "id": "2b5586df",
   "metadata": {},
   "outputs": [],
   "source": []
  },
  {
   "cell_type": "code",
   "execution_count": 482,
   "id": "f291b0c7",
   "metadata": {
    "scrolled": true
   },
   "outputs": [
    {
     "data": {
      "text/plain": [
       "[]"
      ]
     },
     "execution_count": 482,
     "metadata": {},
     "output_type": "execute_result"
    }
   ],
   "source": [
    "[column for column in df.columns if df[column].dtypes=='O']"
   ]
  },
  {
   "cell_type": "code",
   "execution_count": 483,
   "id": "ea8a92d7",
   "metadata": {},
   "outputs": [
    {
     "ename": "KeyError",
     "evalue": "\"['source' 'name'] not found in axis\"",
     "output_type": "error",
     "traceback": [
      "\u001b[1;31m---------------------------------------------------------------------------\u001b[0m",
      "\u001b[1;31mKeyError\u001b[0m                                  Traceback (most recent call last)",
      "\u001b[1;32m<ipython-input-483-2bfb5f3d1d5d>\u001b[0m in \u001b[0;36m<module>\u001b[1;34m\u001b[0m\n\u001b[1;32m----> 1\u001b[1;33m \u001b[0mdf\u001b[0m\u001b[1;33m.\u001b[0m\u001b[0mdrop\u001b[0m\u001b[1;33m(\u001b[0m\u001b[1;33m[\u001b[0m\u001b[1;34m'source'\u001b[0m\u001b[1;33m,\u001b[0m\u001b[1;34m'name'\u001b[0m\u001b[1;33m]\u001b[0m\u001b[1;33m,\u001b[0m\u001b[0minplace\u001b[0m\u001b[1;33m=\u001b[0m\u001b[1;32mTrue\u001b[0m\u001b[1;33m,\u001b[0m\u001b[0maxis\u001b[0m\u001b[1;33m=\u001b[0m\u001b[1;36m1\u001b[0m\u001b[1;33m)\u001b[0m\u001b[1;33m\u001b[0m\u001b[1;33m\u001b[0m\u001b[0m\n\u001b[0m",
      "\u001b[1;32m~\\anaconda3\\lib\\site-packages\\pandas\\core\\frame.py\u001b[0m in \u001b[0;36mdrop\u001b[1;34m(self, labels, axis, index, columns, level, inplace, errors)\u001b[0m\n\u001b[0;32m   4306\u001b[0m                 \u001b[0mweight\u001b[0m  \u001b[1;36m1.0\u001b[0m     \u001b[1;36m0.8\u001b[0m\u001b[1;33m\u001b[0m\u001b[1;33m\u001b[0m\u001b[0m\n\u001b[0;32m   4307\u001b[0m         \"\"\"\n\u001b[1;32m-> 4308\u001b[1;33m         return super().drop(\n\u001b[0m\u001b[0;32m   4309\u001b[0m             \u001b[0mlabels\u001b[0m\u001b[1;33m=\u001b[0m\u001b[0mlabels\u001b[0m\u001b[1;33m,\u001b[0m\u001b[1;33m\u001b[0m\u001b[1;33m\u001b[0m\u001b[0m\n\u001b[0;32m   4310\u001b[0m             \u001b[0maxis\u001b[0m\u001b[1;33m=\u001b[0m\u001b[0maxis\u001b[0m\u001b[1;33m,\u001b[0m\u001b[1;33m\u001b[0m\u001b[1;33m\u001b[0m\u001b[0m\n",
      "\u001b[1;32m~\\anaconda3\\lib\\site-packages\\pandas\\core\\generic.py\u001b[0m in \u001b[0;36mdrop\u001b[1;34m(self, labels, axis, index, columns, level, inplace, errors)\u001b[0m\n\u001b[0;32m   4151\u001b[0m         \u001b[1;32mfor\u001b[0m \u001b[0maxis\u001b[0m\u001b[1;33m,\u001b[0m \u001b[0mlabels\u001b[0m \u001b[1;32min\u001b[0m \u001b[0maxes\u001b[0m\u001b[1;33m.\u001b[0m\u001b[0mitems\u001b[0m\u001b[1;33m(\u001b[0m\u001b[1;33m)\u001b[0m\u001b[1;33m:\u001b[0m\u001b[1;33m\u001b[0m\u001b[1;33m\u001b[0m\u001b[0m\n\u001b[0;32m   4152\u001b[0m             \u001b[1;32mif\u001b[0m \u001b[0mlabels\u001b[0m \u001b[1;32mis\u001b[0m \u001b[1;32mnot\u001b[0m \u001b[1;32mNone\u001b[0m\u001b[1;33m:\u001b[0m\u001b[1;33m\u001b[0m\u001b[1;33m\u001b[0m\u001b[0m\n\u001b[1;32m-> 4153\u001b[1;33m                 \u001b[0mobj\u001b[0m \u001b[1;33m=\u001b[0m \u001b[0mobj\u001b[0m\u001b[1;33m.\u001b[0m\u001b[0m_drop_axis\u001b[0m\u001b[1;33m(\u001b[0m\u001b[0mlabels\u001b[0m\u001b[1;33m,\u001b[0m \u001b[0maxis\u001b[0m\u001b[1;33m,\u001b[0m \u001b[0mlevel\u001b[0m\u001b[1;33m=\u001b[0m\u001b[0mlevel\u001b[0m\u001b[1;33m,\u001b[0m \u001b[0merrors\u001b[0m\u001b[1;33m=\u001b[0m\u001b[0merrors\u001b[0m\u001b[1;33m)\u001b[0m\u001b[1;33m\u001b[0m\u001b[1;33m\u001b[0m\u001b[0m\n\u001b[0m\u001b[0;32m   4154\u001b[0m \u001b[1;33m\u001b[0m\u001b[0m\n\u001b[0;32m   4155\u001b[0m         \u001b[1;32mif\u001b[0m \u001b[0minplace\u001b[0m\u001b[1;33m:\u001b[0m\u001b[1;33m\u001b[0m\u001b[1;33m\u001b[0m\u001b[0m\n",
      "\u001b[1;32m~\\anaconda3\\lib\\site-packages\\pandas\\core\\generic.py\u001b[0m in \u001b[0;36m_drop_axis\u001b[1;34m(self, labels, axis, level, errors)\u001b[0m\n\u001b[0;32m   4186\u001b[0m                 \u001b[0mnew_axis\u001b[0m \u001b[1;33m=\u001b[0m \u001b[0maxis\u001b[0m\u001b[1;33m.\u001b[0m\u001b[0mdrop\u001b[0m\u001b[1;33m(\u001b[0m\u001b[0mlabels\u001b[0m\u001b[1;33m,\u001b[0m \u001b[0mlevel\u001b[0m\u001b[1;33m=\u001b[0m\u001b[0mlevel\u001b[0m\u001b[1;33m,\u001b[0m \u001b[0merrors\u001b[0m\u001b[1;33m=\u001b[0m\u001b[0merrors\u001b[0m\u001b[1;33m)\u001b[0m\u001b[1;33m\u001b[0m\u001b[1;33m\u001b[0m\u001b[0m\n\u001b[0;32m   4187\u001b[0m             \u001b[1;32melse\u001b[0m\u001b[1;33m:\u001b[0m\u001b[1;33m\u001b[0m\u001b[1;33m\u001b[0m\u001b[0m\n\u001b[1;32m-> 4188\u001b[1;33m                 \u001b[0mnew_axis\u001b[0m \u001b[1;33m=\u001b[0m \u001b[0maxis\u001b[0m\u001b[1;33m.\u001b[0m\u001b[0mdrop\u001b[0m\u001b[1;33m(\u001b[0m\u001b[0mlabels\u001b[0m\u001b[1;33m,\u001b[0m \u001b[0merrors\u001b[0m\u001b[1;33m=\u001b[0m\u001b[0merrors\u001b[0m\u001b[1;33m)\u001b[0m\u001b[1;33m\u001b[0m\u001b[1;33m\u001b[0m\u001b[0m\n\u001b[0m\u001b[0;32m   4189\u001b[0m             \u001b[0mresult\u001b[0m \u001b[1;33m=\u001b[0m \u001b[0mself\u001b[0m\u001b[1;33m.\u001b[0m\u001b[0mreindex\u001b[0m\u001b[1;33m(\u001b[0m\u001b[1;33m**\u001b[0m\u001b[1;33m{\u001b[0m\u001b[0maxis_name\u001b[0m\u001b[1;33m:\u001b[0m \u001b[0mnew_axis\u001b[0m\u001b[1;33m}\u001b[0m\u001b[1;33m)\u001b[0m\u001b[1;33m\u001b[0m\u001b[1;33m\u001b[0m\u001b[0m\n\u001b[0;32m   4190\u001b[0m \u001b[1;33m\u001b[0m\u001b[0m\n",
      "\u001b[1;32m~\\anaconda3\\lib\\site-packages\\pandas\\core\\indexes\\base.py\u001b[0m in \u001b[0;36mdrop\u001b[1;34m(self, labels, errors)\u001b[0m\n\u001b[0;32m   5589\u001b[0m         \u001b[1;32mif\u001b[0m \u001b[0mmask\u001b[0m\u001b[1;33m.\u001b[0m\u001b[0many\u001b[0m\u001b[1;33m(\u001b[0m\u001b[1;33m)\u001b[0m\u001b[1;33m:\u001b[0m\u001b[1;33m\u001b[0m\u001b[1;33m\u001b[0m\u001b[0m\n\u001b[0;32m   5590\u001b[0m             \u001b[1;32mif\u001b[0m \u001b[0merrors\u001b[0m \u001b[1;33m!=\u001b[0m \u001b[1;34m\"ignore\"\u001b[0m\u001b[1;33m:\u001b[0m\u001b[1;33m\u001b[0m\u001b[1;33m\u001b[0m\u001b[0m\n\u001b[1;32m-> 5591\u001b[1;33m                 \u001b[1;32mraise\u001b[0m \u001b[0mKeyError\u001b[0m\u001b[1;33m(\u001b[0m\u001b[1;34mf\"{labels[mask]} not found in axis\"\u001b[0m\u001b[1;33m)\u001b[0m\u001b[1;33m\u001b[0m\u001b[1;33m\u001b[0m\u001b[0m\n\u001b[0m\u001b[0;32m   5592\u001b[0m             \u001b[0mindexer\u001b[0m \u001b[1;33m=\u001b[0m \u001b[0mindexer\u001b[0m\u001b[1;33m[\u001b[0m\u001b[1;33m~\u001b[0m\u001b[0mmask\u001b[0m\u001b[1;33m]\u001b[0m\u001b[1;33m\u001b[0m\u001b[1;33m\u001b[0m\u001b[0m\n\u001b[0;32m   5593\u001b[0m         \u001b[1;32mreturn\u001b[0m \u001b[0mself\u001b[0m\u001b[1;33m.\u001b[0m\u001b[0mdelete\u001b[0m\u001b[1;33m(\u001b[0m\u001b[0mindexer\u001b[0m\u001b[1;33m)\u001b[0m\u001b[1;33m\u001b[0m\u001b[1;33m\u001b[0m\u001b[0m\n",
      "\u001b[1;31mKeyError\u001b[0m: \"['source' 'name'] not found in axis\""
     ]
    }
   ],
   "source": [
    "df.drop(['source','name'],inplace=True,axis=1)"
   ]
  },
  {
   "cell_type": "code",
   "execution_count": 484,
   "id": "4e81fd37",
   "metadata": {},
   "outputs": [],
   "source": [
    "X=df.drop(['price'],axis=1)\n",
    "Y=df['price']\n",
    "\n"
   ]
  },
  {
   "cell_type": "code",
   "execution_count": 485,
   "id": "aea86d96",
   "metadata": {},
   "outputs": [],
   "source": [
    "from sklearn.model_selection import train_test_split \n",
    "\n",
    "x_train,x_test,y_train,y_test=train_test_split(X,Y,test_size=0.3,random_state=2)"
   ]
  },
  {
   "cell_type": "code",
   "execution_count": 487,
   "id": "2948cfb0",
   "metadata": {},
   "outputs": [
    {
     "data": {
      "text/html": [
       "<div>\n",
       "<style scoped>\n",
       "    .dataframe tbody tr th:only-of-type {\n",
       "        vertical-align: middle;\n",
       "    }\n",
       "\n",
       "    .dataframe tbody tr th {\n",
       "        vertical-align: top;\n",
       "    }\n",
       "\n",
       "    .dataframe thead th {\n",
       "        text-align: right;\n",
       "    }\n",
       "</style>\n",
       "<table border=\"1\" class=\"dataframe\">\n",
       "  <thead>\n",
       "    <tr style=\"text-align: right;\">\n",
       "      <th></th>\n",
       "      <th>distance</th>\n",
       "      <th>cab_type</th>\n",
       "      <th>time_stamp</th>\n",
       "      <th>surge_multiplier</th>\n",
       "      <th>source_temp</th>\n",
       "      <th>source_clouds</th>\n",
       "      <th>source_pressure</th>\n",
       "      <th>source_rain</th>\n",
       "      <th>source_humidity</th>\n",
       "      <th>source_wind</th>\n",
       "      <th>...</th>\n",
       "      <th>name_Lux Black</th>\n",
       "      <th>name_Lux Black XL</th>\n",
       "      <th>name_Lyft</th>\n",
       "      <th>name_Lyft XL</th>\n",
       "      <th>name_Shared</th>\n",
       "      <th>name_Taxi</th>\n",
       "      <th>name_UberPool</th>\n",
       "      <th>name_UberX</th>\n",
       "      <th>name_UberXL</th>\n",
       "      <th>name_WAV</th>\n",
       "    </tr>\n",
       "  </thead>\n",
       "  <tbody>\n",
       "    <tr>\n",
       "      <th>0</th>\n",
       "      <td>-1.496060</td>\n",
       "      <td>0.965473</td>\n",
       "      <td>-1.187187</td>\n",
       "      <td>-0.157927</td>\n",
       "      <td>-0.159860</td>\n",
       "      <td>-1.087789</td>\n",
       "      <td>0.006821</td>\n",
       "      <td>0.851989</td>\n",
       "      <td>0.207375</td>\n",
       "      <td>0.737317</td>\n",
       "      <td>...</td>\n",
       "      <td>-0.295383</td>\n",
       "      <td>-0.295083</td>\n",
       "      <td>-0.296399</td>\n",
       "      <td>-0.295988</td>\n",
       "      <td>-0.295764</td>\n",
       "      <td>0.0</td>\n",
       "      <td>-0.307023</td>\n",
       "      <td>-0.307664</td>\n",
       "      <td>-0.306936</td>\n",
       "      <td>3.248407</td>\n",
       "    </tr>\n",
       "    <tr>\n",
       "      <th>1</th>\n",
       "      <td>1.091283</td>\n",
       "      <td>-1.035761</td>\n",
       "      <td>1.113916</td>\n",
       "      <td>-0.157927</td>\n",
       "      <td>2.187474</td>\n",
       "      <td>-1.068282</td>\n",
       "      <td>-1.523569</td>\n",
       "      <td>1.619218</td>\n",
       "      <td>-2.162824</td>\n",
       "      <td>1.044594</td>\n",
       "      <td>...</td>\n",
       "      <td>-0.295383</td>\n",
       "      <td>-0.295083</td>\n",
       "      <td>3.373830</td>\n",
       "      <td>-0.295988</td>\n",
       "      <td>-0.295764</td>\n",
       "      <td>0.0</td>\n",
       "      <td>-0.307023</td>\n",
       "      <td>-0.307664</td>\n",
       "      <td>-0.306936</td>\n",
       "      <td>-0.307843</td>\n",
       "    </tr>\n",
       "    <tr>\n",
       "      <th>2</th>\n",
       "      <td>0.237636</td>\n",
       "      <td>0.965473</td>\n",
       "      <td>1.038173</td>\n",
       "      <td>-0.157927</td>\n",
       "      <td>-0.868445</td>\n",
       "      <td>2.130940</td>\n",
       "      <td>1.311061</td>\n",
       "      <td>-1.211787</td>\n",
       "      <td>0.782929</td>\n",
       "      <td>-1.663634</td>\n",
       "      <td>...</td>\n",
       "      <td>-0.295383</td>\n",
       "      <td>-0.295083</td>\n",
       "      <td>-0.296399</td>\n",
       "      <td>-0.295988</td>\n",
       "      <td>-0.295764</td>\n",
       "      <td>0.0</td>\n",
       "      <td>-0.307023</td>\n",
       "      <td>-0.307664</td>\n",
       "      <td>-0.306936</td>\n",
       "      <td>-0.307843</td>\n",
       "    </tr>\n",
       "    <tr>\n",
       "      <th>3</th>\n",
       "      <td>-0.492805</td>\n",
       "      <td>0.965473</td>\n",
       "      <td>1.298944</td>\n",
       "      <td>-0.157927</td>\n",
       "      <td>2.072954</td>\n",
       "      <td>-0.287984</td>\n",
       "      <td>-1.161109</td>\n",
       "      <td>0.827368</td>\n",
       "      <td>-2.013270</td>\n",
       "      <td>0.842420</td>\n",
       "      <td>...</td>\n",
       "      <td>-0.295383</td>\n",
       "      <td>-0.295083</td>\n",
       "      <td>-0.296399</td>\n",
       "      <td>-0.295988</td>\n",
       "      <td>-0.295764</td>\n",
       "      <td>0.0</td>\n",
       "      <td>-0.307023</td>\n",
       "      <td>-0.307664</td>\n",
       "      <td>3.258012</td>\n",
       "      <td>-0.307843</td>\n",
       "    </tr>\n",
       "    <tr>\n",
       "      <th>4</th>\n",
       "      <td>0.607256</td>\n",
       "      <td>0.965473</td>\n",
       "      <td>1.069077</td>\n",
       "      <td>-0.157927</td>\n",
       "      <td>2.072954</td>\n",
       "      <td>-0.287984</td>\n",
       "      <td>-1.161109</td>\n",
       "      <td>0.827368</td>\n",
       "      <td>-2.013270</td>\n",
       "      <td>0.842420</td>\n",
       "      <td>...</td>\n",
       "      <td>-0.295383</td>\n",
       "      <td>-0.295083</td>\n",
       "      <td>-0.296399</td>\n",
       "      <td>-0.295988</td>\n",
       "      <td>-0.295764</td>\n",
       "      <td>0.0</td>\n",
       "      <td>-0.307023</td>\n",
       "      <td>-0.307664</td>\n",
       "      <td>-0.306936</td>\n",
       "      <td>-0.307843</td>\n",
       "    </tr>\n",
       "  </tbody>\n",
       "</table>\n",
       "<p>5 rows × 50 columns</p>\n",
       "</div>"
      ],
      "text/plain": [
       "   distance  cab_type  time_stamp  surge_multiplier  source_temp  \\\n",
       "0 -1.496060  0.965473   -1.187187         -0.157927    -0.159860   \n",
       "1  1.091283 -1.035761    1.113916         -0.157927     2.187474   \n",
       "2  0.237636  0.965473    1.038173         -0.157927    -0.868445   \n",
       "3 -0.492805  0.965473    1.298944         -0.157927     2.072954   \n",
       "4  0.607256  0.965473    1.069077         -0.157927     2.072954   \n",
       "\n",
       "   source_clouds  source_pressure  source_rain  source_humidity  source_wind  \\\n",
       "0      -1.087789         0.006821     0.851989         0.207375     0.737317   \n",
       "1      -1.068282        -1.523569     1.619218        -2.162824     1.044594   \n",
       "2       2.130940         1.311061    -1.211787         0.782929    -1.663634   \n",
       "3      -0.287984        -1.161109     0.827368        -2.013270     0.842420   \n",
       "4      -0.287984        -1.161109     0.827368        -2.013270     0.842420   \n",
       "\n",
       "   ...  name_Lux Black  name_Lux Black XL  name_Lyft  name_Lyft XL  \\\n",
       "0  ...       -0.295383          -0.295083  -0.296399     -0.295988   \n",
       "1  ...       -0.295383          -0.295083   3.373830     -0.295988   \n",
       "2  ...       -0.295383          -0.295083  -0.296399     -0.295988   \n",
       "3  ...       -0.295383          -0.295083  -0.296399     -0.295988   \n",
       "4  ...       -0.295383          -0.295083  -0.296399     -0.295988   \n",
       "\n",
       "   name_Shared  name_Taxi  name_UberPool  name_UberX  name_UberXL  name_WAV  \n",
       "0    -0.295764        0.0      -0.307023   -0.307664    -0.306936  3.248407  \n",
       "1    -0.295764        0.0      -0.307023   -0.307664    -0.306936 -0.307843  \n",
       "2    -0.295764        0.0      -0.307023   -0.307664    -0.306936 -0.307843  \n",
       "3    -0.295764        0.0      -0.307023   -0.307664     3.258012 -0.307843  \n",
       "4    -0.295764        0.0      -0.307023   -0.307664    -0.306936 -0.307843  \n",
       "\n",
       "[5 rows x 50 columns]"
      ]
     },
     "execution_count": 487,
     "metadata": {},
     "output_type": "execute_result"
    }
   ],
   "source": [
    "x_train=pd.DataFrame(sc.fit_transform(x_train),columns=X.columns)\n",
    "x_test=pd.DataFrame(sc.fit_transform(x_test),columns=X.columns)\n",
    "x_train.head()"
   ]
  },
  {
   "cell_type": "code",
   "execution_count": 491,
   "id": "3ef62176",
   "metadata": {
    "scrolled": true
   },
   "outputs": [
    {
     "data": {
      "text/plain": [
       "(637976, 50)"
      ]
     },
     "execution_count": 491,
     "metadata": {},
     "output_type": "execute_result"
    }
   ],
   "source": [
    "X.shape"
   ]
  },
  {
   "cell_type": "code",
   "execution_count": 494,
   "id": "042f325a",
   "metadata": {},
   "outputs": [],
   "source": [
    "from sklearn.model_selection import train_test_split"
   ]
  },
  {
   "cell_type": "code",
   "execution_count": 495,
   "id": "5305a95a",
   "metadata": {},
   "outputs": [],
   "source": [
    "x_train,x_test,y_train,y_test=train_test_split(X,Y,test_size=0.3)"
   ]
  },
  {
   "cell_type": "code",
   "execution_count": 496,
   "id": "7ae0ffba",
   "metadata": {},
   "outputs": [
    {
     "data": {
      "text/plain": [
       "LinearRegression()"
      ]
     },
     "execution_count": 496,
     "metadata": {},
     "output_type": "execute_result"
    }
   ],
   "source": [
    "#Linear Regression\n",
    "from sklearn.linear_model import LinearRegression\n",
    "lr=LinearRegression()\n",
    "lr.fit(x_train,y_train)"
   ]
  },
  {
   "cell_type": "code",
   "execution_count": 497,
   "id": "4cd9f55b",
   "metadata": {},
   "outputs": [],
   "source": [
    "y_pred=lr.predict(x_test)"
   ]
  },
  {
   "cell_type": "code",
   "execution_count": 499,
   "id": "d93ca6a8",
   "metadata": {},
   "outputs": [
    {
     "data": {
      "text/plain": [
       "0.9291512295722939"
      ]
     },
     "execution_count": 499,
     "metadata": {},
     "output_type": "execute_result"
    }
   ],
   "source": [
    "lr.score(x_test,y_test)"
   ]
  },
  {
   "cell_type": "code",
   "execution_count": 501,
   "id": "a9c9ad40",
   "metadata": {
    "scrolled": true
   },
   "outputs": [
    {
     "data": {
      "text/plain": [
       "6.192640211943955"
      ]
     },
     "execution_count": 501,
     "metadata": {},
     "output_type": "execute_result"
    }
   ],
   "source": [
    "from sklearn.metrics import mean_squared_error\n",
    "mean_squared_error(y_test,y_pred)"
   ]
  },
  {
   "cell_type": "code",
   "execution_count": 506,
   "id": "e19a41c3",
   "metadata": {},
   "outputs": [],
   "source": [
    "import pickle \n",
    "pickle.dump(lr,open('cab.pkl','wb'))"
   ]
  },
  {
   "cell_type": "code",
   "execution_count": 507,
   "id": "9e6c777f",
   "metadata": {},
   "outputs": [],
   "source": [
    "loaded_model=pickle.load(open('cab.pkl','rb'))"
   ]
  },
  {
   "cell_type": "code",
   "execution_count": 509,
   "id": "624ee361",
   "metadata": {},
   "outputs": [
    {
     "data": {
      "text/plain": [
       "0.9291512295722939"
      ]
     },
     "execution_count": 509,
     "metadata": {},
     "output_type": "execute_result"
    }
   ],
   "source": [
    "loaded_model.score(x_test,y_test)"
   ]
  },
  {
   "cell_type": "code",
   "execution_count": null,
   "id": "193fb2f4",
   "metadata": {},
   "outputs": [],
   "source": []
  }
 ],
 "metadata": {
  "kernelspec": {
   "display_name": "Python 3",
   "language": "python",
   "name": "python3"
  },
  "language_info": {
   "codemirror_mode": {
    "name": "ipython",
    "version": 3
   },
   "file_extension": ".py",
   "mimetype": "text/x-python",
   "name": "python",
   "nbconvert_exporter": "python",
   "pygments_lexer": "ipython3",
   "version": "3.8.8"
  }
 },
 "nbformat": 4,
 "nbformat_minor": 5
}
